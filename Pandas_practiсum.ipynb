{
 "cells": [
  {
   "cell_type": "code",
   "execution_count": 2,
   "id": "dd8cd036",
   "metadata": {},
   "outputs": [],
   "source": [
    "import pandas as pd\n",
    "import numpy as np"
   ]
  },
  {
   "cell_type": "markdown",
   "id": "960e00c8",
   "metadata": {},
   "source": [
    "## 1.1 Практическое занятие 1 (Поехали!)\n",
    " "
   ]
  },
  {
   "cell_type": "markdown",
   "id": "e0a05e06",
   "metadata": {},
   "source": [
    "Создайте pandas.Series из листа lst."
   ]
  },
  {
   "cell_type": "code",
   "execution_count": 3,
   "id": "b382b586",
   "metadata": {},
   "outputs": [
    {
     "name": "stdout",
     "output_type": "stream",
     "text": [
      "0    z\n",
      "1    y\n",
      "2    x\n",
      "3    w\n",
      "4    v\n",
      "5    u\n",
      "6    t\n",
      "7    s\n",
      "8    r\n",
      "dtype: object\n"
     ]
    }
   ],
   "source": [
    "lst = list('zyxwvutsr')\n",
    "print(pd.Series(lst))"
   ]
  },
  {
   "cell_type": "markdown",
   "id": "1e0acfb4",
   "metadata": {},
   "source": [
    "На основе листа lst и массива arr сформируйте словарь и cоздайте pandas.Series из получившегося словаря."
   ]
  },
  {
   "cell_type": "code",
   "execution_count": 4,
   "id": "a77bb7bf",
   "metadata": {},
   "outputs": [
    {
     "name": "stdout",
     "output_type": "stream",
     "text": [
      "a    0\n",
      "b    1\n",
      "c    2\n",
      "e    3\n",
      "d    4\n",
      "dtype: int32\n"
     ]
    }
   ],
   "source": [
    "lst = list('abced')\n",
    "arr = np.arange(5)\n",
    "result = {}\n",
    "for key, value in zip(lst, arr):\n",
    "    result[key]=value\n",
    "print(pd.Series(result))"
   ]
  },
  {
   "cell_type": "markdown",
   "id": "eb349a51",
   "metadata": {},
   "source": [
    "На вход функции solution подается серия ser. Преобразуйте ее в pandas.DataFrame таким образом, чтобы индекс стал отдельной колонкой датафрейма:"
   ]
  },
  {
   "cell_type": "code",
   "execution_count": 5,
   "id": "8c2ca642",
   "metadata": {},
   "outputs": [
    {
     "ename": "NameError",
     "evalue": "name 'get_series' is not defined",
     "output_type": "error",
     "traceback": [
      "\u001b[1;31m---------------------------------------------------------------------------\u001b[0m",
      "\u001b[1;31mNameError\u001b[0m                                 Traceback (most recent call last)",
      "\u001b[1;32m~\\AppData\\Local\\Temp/ipykernel_9360/3394206707.py\u001b[0m in \u001b[0;36m<module>\u001b[1;34m\u001b[0m\n\u001b[1;32m----> 1\u001b[1;33m \u001b[0ms\u001b[0m \u001b[1;33m=\u001b[0m \u001b[0mget_series\u001b[0m\u001b[1;33m(\u001b[0m\u001b[1;33m)\u001b[0m\u001b[1;33m\u001b[0m\u001b[1;33m\u001b[0m\u001b[0m\n\u001b[0m\u001b[0;32m      2\u001b[0m \u001b[0mprint\u001b[0m\u001b[1;33m(\u001b[0m\u001b[0mpd\u001b[0m\u001b[1;33m.\u001b[0m\u001b[0mDataFrame\u001b[0m\u001b[1;33m(\u001b[0m\u001b[0mdata\u001b[0m \u001b[1;33m=\u001b[0m \u001b[0ms\u001b[0m\u001b[1;33m)\u001b[0m\u001b[1;33m.\u001b[0m\u001b[0mreset_index\u001b[0m\u001b[1;33m(\u001b[0m\u001b[1;33m)\u001b[0m\u001b[1;33m)\u001b[0m\u001b[1;33m\u001b[0m\u001b[1;33m\u001b[0m\u001b[0m\n",
      "\u001b[1;31mNameError\u001b[0m: name 'get_series' is not defined"
     ]
    }
   ],
   "source": [
    "s = get_series()\n",
    "print(pd.DataFrame(data = s).reset_index())"
   ]
  },
  {
   "cell_type": "markdown",
   "id": "3dc74a21",
   "metadata": {},
   "source": [
    "Объедините два pandas.Series (s1, s2) таким образом чтобы получился pandas.DataFrame не используя конструктор!\n",
    "\n",
    "Функция solution должна вернуть датафрейм:"
   ]
  },
  {
   "cell_type": "code",
   "execution_count": 6,
   "id": "5b77a227",
   "metadata": {},
   "outputs": [
    {
     "name": "stdout",
     "output_type": "stream",
     "text": [
      "   0  1\n",
      "0  a  0\n",
      "1  b  1\n",
      "2  c  2\n",
      "3  e  3\n",
      "4  d  4\n"
     ]
    }
   ],
   "source": [
    "s1 = pd.Series(list('abced'))\n",
    "s2 = pd.Series(np.arange(5))\n",
    "print(pd.concat([s1,s2], axis = 1))"
   ]
  },
  {
   "cell_type": "markdown",
   "id": "35e1bc92",
   "metadata": {},
   "source": [
    "Объедините два pandas.Series (переменные s1, s2) таким образом чтобы получился pandas.DataFrame:\n",
    "\n"
   ]
  },
  {
   "cell_type": "code",
   "execution_count": 7,
   "id": "735daf94",
   "metadata": {},
   "outputs": [
    {
     "name": "stdout",
     "output_type": "stream",
     "text": [
      "  col1  col2\n",
      "0    a     0\n",
      "1    b     1\n",
      "2    c     2\n",
      "3    e     3\n",
      "4    d     4\n"
     ]
    }
   ],
   "source": [
    "s1 = pd.Series(list('abced'))\n",
    "s2 = pd.Series(np.arange(5))\n",
    "d = {'col1': s1, 'col2': s2}\n",
    "print(pd.DataFrame(data = d))"
   ]
  },
  {
   "cell_type": "markdown",
   "id": "0355d50e",
   "metadata": {},
   "source": [
    "Присвойте индексу pandas.Series имя 'characters':\n",
    "\n"
   ]
  },
  {
   "cell_type": "code",
   "execution_count": 9,
   "id": "59b813e8",
   "metadata": {},
   "outputs": [
    {
     "name": "stdout",
     "output_type": "stream",
     "text": [
      "0    a\n",
      "1    b\n",
      "2    c\n",
      "3    e\n",
      "4    d\n",
      "Name: characters, dtype: object\n"
     ]
    }
   ],
   "source": [
    "s = pd.Series(list('abced'), name =  'characters')\n",
    "print(s)"
   ]
  },
  {
   "cell_type": "markdown",
   "id": "8712825d",
   "metadata": {},
   "source": [
    "Получите элементы s1, которые не присутствуют в s2. Функция должна вернуть серию.\n",
    "\n"
   ]
  },
  {
   "cell_type": "code",
   "execution_count": 10,
   "id": "2bb95b06",
   "metadata": {},
   "outputs": [
    {
     "name": "stdout",
     "output_type": "stream",
     "text": [
      "0    1\n",
      "1    2\n",
      "2    3\n",
      "dtype: int64\n"
     ]
    }
   ],
   "source": [
    "s1 = pd.Series([1, 2, 3, 4, 5])\n",
    "s2 = pd.Series([4, 5, 6, 7, 8])\n",
    "\n",
    "check = s1.isin(s2)\n",
    "\n",
    "print(s1[~s1.isin(s2)])"
   ]
  },
  {
   "cell_type": "markdown",
   "id": "26ef5b3f",
   "metadata": {},
   "source": [
    "Создайте новый pandas.Series из элементов, которые присутствуют только в одном из двух pandas.Series (переменные s1, s2). Если элемент присутствует в двух Series, то включать его не надо.\n",
    "\n"
   ]
  },
  {
   "cell_type": "code",
   "execution_count": 11,
   "id": "df97caad",
   "metadata": {},
   "outputs": [
    {
     "name": "stdout",
     "output_type": "stream",
     "text": [
      "0    1\n",
      "1    2\n",
      "2    3\n",
      "5    6\n",
      "6    7\n",
      "7    8\n",
      "dtype: int64\n"
     ]
    }
   ],
   "source": [
    "s1 = pd.Series([1, 2, 3, 4, 5])\n",
    "s2 = pd.Series([4, 5, 6, 7, 8])\n",
    "s_union = pd.Series(np.union1d(s1,s2))\n",
    "s_inters = pd.Series(np.intersect1d(s1,s2))\n",
    "print(s_union[~s_union.isin(s_inters)])"
   ]
  },
  {
   "cell_type": "markdown",
   "id": "94e0338d",
   "metadata": {},
   "source": [
    "На вход функции solution подаются данные в pandas.Series (переменная ser) рассчитайте:\n",
    "\n",
    "- наименьшее значение\n",
    "- 25 перцентиль\n",
    "- медиану\n",
    "- 75 перцентиль\n",
    "- наибольшее значение"
   ]
  },
  {
   "cell_type": "code",
   "execution_count": 12,
   "id": "9e2a72ce",
   "metadata": {},
   "outputs": [
    {
     "name": "stdout",
     "output_type": "stream",
     "text": [
      "[ 1.822353    5.61547186  9.83484325 10.91521602 16.24734871]\n"
     ]
    }
   ],
   "source": [
    "lst = [12.53904795,  5.68886327, 16.24734871,  9.60194377,  5.55134259,\n",
    "        5.59100805, 10.09319475, 11.18922311, 10.06774274,  1.822353]\n",
    "\n",
    "s1 = pd.Series(lst)\n",
    "print(np.percentile(s1, [0,25, 50, 75,100]))"
   ]
  },
  {
   "cell_type": "markdown",
   "id": "68b799f9",
   "metadata": {},
   "source": [
    "Определите сколько раз встречается каждое значение в исходном pandas.Series (переменная s). Функция должна вернуть серию с подсчитанным количеством каждого символа.\n",
    "\n"
   ]
  },
  {
   "cell_type": "code",
   "execution_count": 13,
   "id": "fae21e4d",
   "metadata": {},
   "outputs": [
    {
     "name": "stdout",
     "output_type": "stream",
     "text": [
      "a    8\n",
      "b    7\n",
      "c    6\n",
      "e    5\n",
      "d    4\n",
      "h    3\n",
      "f    2\n",
      "g    1\n",
      "dtype: int64\n"
     ]
    }
   ],
   "source": [
    "s = pd.Series(list('abdcbdhafceeabcahbcaedadaecbbbecafgh'))\n",
    "print(pd.value_counts(s))"
   ]
  },
  {
   "cell_type": "markdown",
   "id": "ac402c0d",
   "metadata": {},
   "source": [
    "## 1.2 Практическое занятие 2\n",
    " "
   ]
  },
  {
   "cell_type": "markdown",
   "id": "d09e9d40",
   "metadata": {},
   "source": [
    "Доработайте код таким образом, чтобы оставить только 2 наиболее встречающихся значения, а для остальных установите значение 'Yet another value'."
   ]
  },
  {
   "cell_type": "code",
   "execution_count": 14,
   "id": "61f52564",
   "metadata": {},
   "outputs": [
    {
     "name": "stdout",
     "output_type": "stream",
     "text": [
      "0                     a\n",
      "1                     b\n",
      "2     Yet another value\n",
      "3     Yet another value\n",
      "4                     b\n",
      "5     Yet another value\n",
      "6     Yet another value\n",
      "7                     a\n",
      "8     Yet another value\n",
      "9     Yet another value\n",
      "10    Yet another value\n",
      "11    Yet another value\n",
      "12                    a\n",
      "13                    b\n",
      "14    Yet another value\n",
      "15                    a\n",
      "16    Yet another value\n",
      "17                    b\n",
      "18    Yet another value\n",
      "19                    a\n",
      "20    Yet another value\n",
      "21    Yet another value\n",
      "22                    a\n",
      "23    Yet another value\n",
      "24                    a\n",
      "25    Yet another value\n",
      "26    Yet another value\n",
      "27                    b\n",
      "28                    b\n",
      "29                    b\n",
      "30    Yet another value\n",
      "31    Yet another value\n",
      "32                    a\n",
      "33    Yet another value\n",
      "34    Yet another value\n",
      "35    Yet another value\n",
      "dtype: object\n"
     ]
    }
   ],
   "source": [
    "s = pd.Series(list('abdcbdhafceeabcahbcaedadaecbbbecafgh'))\n",
    "top_2 = pd.value_counts(s).head(2)\n",
    "top_2 = top_2.index.to_series()\n",
    "flag = s.isin(top_2)\n",
    "print(s.where(flag, other='Yet another value'))"
   ]
  },
  {
   "cell_type": "markdown",
   "id": "ddd9c721",
   "metadata": {},
   "source": [
    "Разбейте все значения из pandas.Series (переменная s1) на 3 интервала равного размера. Функция должна вернуть серию:\n",
    "\n"
   ]
  },
  {
   "cell_type": "code",
   "execution_count": 15,
   "id": "e0e03c7a",
   "metadata": {},
   "outputs": [
    {
     "name": "stdout",
     "output_type": "stream",
     "text": [
      "0       (6.0, 9.0]\n",
      "1       (6.0, 9.0]\n",
      "2       (6.0, 9.0]\n",
      "3       (3.0, 6.0]\n",
      "4       (3.0, 6.0]\n",
      "5       (3.0, 6.0]\n",
      "6    (-0.001, 3.0]\n",
      "7    (-0.001, 3.0]\n",
      "8    (-0.001, 3.0]\n",
      "9    (-0.001, 3.0]\n",
      "dtype: category\n",
      "Categories (3, interval[float64, right]): [(-0.001, 3.0] < (3.0, 6.0] < (6.0, 9.0]]\n"
     ]
    }
   ],
   "source": [
    "s1 = pd.Series(reversed(range(0, 10)))\n",
    "print(pd.qcut(s1,3))"
   ]
  },
  {
   "cell_type": "markdown",
   "id": "f2f62c6c",
   "metadata": {},
   "source": [
    "Преобразуйте pandas.Series (переменная s1) в pandas.DataFrame размером 2 х 5:\n",
    "\n"
   ]
  },
  {
   "cell_type": "code",
   "execution_count": 16,
   "id": "ac41b7e3",
   "metadata": {},
   "outputs": [
    {
     "name": "stdout",
     "output_type": "stream",
     "text": [
      "   0  1  2  3  4\n",
      "0  0  1  2  3  4\n",
      "1  5  6  7  8  9\n"
     ]
    }
   ],
   "source": [
    "s1 = pd.Series(range(0, 10))\n",
    "print(pd.DataFrame([[i for i in s1[:5]], [i for i in s1[5:]]] ))\n"
   ]
  },
  {
   "cell_type": "markdown",
   "id": "24835ca3",
   "metadata": {},
   "source": [
    "Найдите индексы значений, которые кратны 2. Функция solution должна вернуть numpy массив:\n",
    "\n"
   ]
  },
  {
   "cell_type": "code",
   "execution_count": 17,
   "id": "eff370e8",
   "metadata": {},
   "outputs": [
    {
     "name": "stdout",
     "output_type": "stream",
     "text": [
      "[[1]\n",
      " [2]\n",
      " [5]]\n"
     ]
    }
   ],
   "source": [
    "s1 = pd.Series([5, 10, 2, 3, 9, 12, 1])\n",
    "s1 = s1.to_numpy()\n",
    "print(np.argwhere(s1%2==0))"
   ]
  },
  {
   "cell_type": "markdown",
   "id": "138376d3",
   "metadata": {},
   "source": [
    "Создайте новый pandas.Series из элементов, которые находятся по индексам: 0, 7, 12, 15, 19. Функция solution должна вернуть серию:\n",
    "\n"
   ]
  },
  {
   "cell_type": "code",
   "execution_count": 18,
   "id": "f031a7d7",
   "metadata": {},
   "outputs": [
    {
     "name": "stdout",
     "output_type": "stream",
     "text": [
      "0     a\n",
      "7     h\n",
      "12    m\n",
      "15    p\n",
      "19    t\n",
      "dtype: object\n"
     ]
    }
   ],
   "source": [
    "s1 = pd.Series(list('abcdefghijklmnopqrstuvwxyz'))\n",
    "print(s1.take([0,7, 12, 15, 19]))"
   ]
  },
  {
   "cell_type": "markdown",
   "id": "a129182c",
   "metadata": {},
   "source": [
    "Преобразуйте элементы pandas.Series (переменная s1) из строк в даты. Функция solutionдолжна вернуть серию:\n",
    "\n"
   ]
  },
  {
   "cell_type": "code",
   "execution_count": 19,
   "id": "84c1e116",
   "metadata": {},
   "outputs": [
    {
     "name": "stdout",
     "output_type": "stream",
     "text": [
      "0   2022-01-01 00:00:00\n",
      "1   2022-02-02 00:00:00\n",
      "2   2022-03-03 00:00:00\n",
      "3   2022-04-04 00:00:00\n",
      "4   2022-05-05 00:00:00\n",
      "5   2022-06-06 12:20:00\n",
      "dtype: datetime64[ns]\n"
     ]
    }
   ],
   "source": [
    "s1 = pd.Series(['01 Jan 2022', '02-02-2022', '20220303', '2022/04/04', '2022-05-05', '2022-06-06T12:20'])\n",
    "print(pd.to_datetime(s1))"
   ]
  },
  {
   "cell_type": "markdown",
   "id": "20ac7186",
   "metadata": {},
   "source": [
    "Объект pandas.Series (переменная s1) содержит некоторые числовые значения. Для значений хранящихся в s2 определите индексы под которыми они хранятся  в s1. Функция должна вернуть список (python list):\n",
    "\n"
   ]
  },
  {
   "cell_type": "code",
   "execution_count": 20,
   "id": "5df2f57d",
   "metadata": {},
   "outputs": [
    {
     "name": "stdout",
     "output_type": "stream",
     "text": [
      "[5, 4, 0, 8]\n"
     ]
    }
   ],
   "source": [
    "s1 = pd.Series([10, 9, 6, 5, 3, 1, 12, 8, 13])\n",
    "s2 = pd.Series([1, 3, 10, 13])\n",
    "indexes = []\n",
    "for i in range(len(s2)):\n",
    "    for j in range(len(s1)):\n",
    "        if s2[i]==s1[j]:\n",
    "            indexes.append(j)\n",
    "print(indexes)"
   ]
  },
  {
   "cell_type": "markdown",
   "id": "e5593497",
   "metadata": {},
   "source": [
    "Даны следующие ряды данных:\n",
    "\n",
    "s_forecast - ряд прогнозных значений\n",
    "\n",
    "s_real - ряд фактических значений\n",
    "\n",
    " \n",
    "\n",
    "Вычислите среднеквадратичную ошибку."
   ]
  },
  {
   "cell_type": "code",
   "execution_count": 21,
   "id": "27236851",
   "metadata": {},
   "outputs": [
    {
     "name": "stdout",
     "output_type": "stream",
     "text": [
      "33.0\n"
     ]
    }
   ],
   "source": [
    "s_forecast = pd.Series(range(10))\n",
    "s_real  = pd.Series(reversed(range(10)))\n",
    "print(np.std(s_real - s_forecast)**2)"
   ]
  },
  {
   "cell_type": "markdown",
   "id": "2a46224c",
   "metadata": {},
   "source": [
    "Измените первый символ каждого слова на верхний регистр."
   ]
  },
  {
   "cell_type": "code",
   "execution_count": 22,
   "id": "adf87968",
   "metadata": {},
   "outputs": [
    {
     "name": "stdout",
     "output_type": "stream",
     "text": [
      "0        The\n",
      "1    Weather\n",
      "2         Is\n",
      "3       Fine\n",
      "dtype: object\n"
     ]
    }
   ],
   "source": [
    "s1 = pd.Series(['the', 'weather', 'is', 'fine'])\n",
    "print(s1.str.capitalize())"
   ]
  },
  {
   "cell_type": "markdown",
   "id": "1e7fc42b",
   "metadata": {},
   "source": [
    "Подсчитайте количество символов в каждом слове. Функция solution должна вернуть серию:"
   ]
  },
  {
   "cell_type": "code",
   "execution_count": 24,
   "id": "3c612d6f",
   "metadata": {},
   "outputs": [
    {
     "name": "stdout",
     "output_type": "stream",
     "text": [
      "0    3\n",
      "1    7\n",
      "2    2\n",
      "3    4\n",
      "dtype: int64\n"
     ]
    }
   ],
   "source": [
    "s1 = pd.Series(['the', 'weather', 'is', 'fine'])\n",
    "print(pd.Series([len(s) for s in s1]))"
   ]
  },
  {
   "cell_type": "markdown",
   "id": "7b2ce7b4",
   "metadata": {},
   "source": [
    "## 1.3 Практическое занятие 3 (Сталлоне)\n",
    " "
   ]
  },
  {
   "cell_type": "markdown",
   "id": "7525ed4e",
   "metadata": {},
   "source": [
    "Вытяните день месяца, номер недели, день года и день недели из серии (s1)\n",
    "\n"
   ]
  },
  {
   "cell_type": "code",
   "execution_count": 25,
   "id": "7cc18b5d",
   "metadata": {},
   "outputs": [
    {
     "name": "stdout",
     "output_type": "stream",
     "text": [
      "Date:  [5, 4, 3, 4, 5, 6]\n",
      "Week number:  [1, 5, 13, 22, 9, 9]\n",
      "Day number of year:  [5, 35, 93, 155, 64, 65]\n",
      "Day of week:  ['Tuesday', 'Thursday', 'Saturday', 'Friday', 'Friday', 'Saturday']\n"
     ]
    },
    {
     "name": "stderr",
     "output_type": "stream",
     "text": [
      "C:\\Users\\1645295\\AppData\\Local\\Temp/ipykernel_9360/555845331.py:6: FutureWarning: Series.dt.weekofyear and Series.dt.week have been deprecated.  Please use Series.dt.isocalendar().week instead.\n",
      "  print(f'Week number:  {s2.dt.week.to_list()}')\n"
     ]
    }
   ],
   "source": [
    "s1 = pd.Series(['05 Jan 2021', '02-04-2021', '20210403', '2021/06/04', '2021-03-05', '2021-03-06T12:20'])\n",
    "s2 = pd.to_datetime(s1)\n",
    "\n",
    "years = s2.dt.year.to_list()\n",
    "print(f'Date:  {s2.dt.day.to_list()}')\n",
    "print(f'Week number:  {s2.dt.week.to_list()}')\n",
    "print(f'Day number of year:  {s2.dt.dayofyear.to_list()}')\n",
    "print(f'Day of week:  {s2.dt.day_name().to_list()}')"
   ]
  },
  {
   "cell_type": "markdown",
   "id": "5b27997e",
   "metadata": {},
   "source": [
    "Измените даты лежащие в серии (s1) таким образом чтобы они начинались с 10-го числа соответствующего месяца.\n",
    "\n"
   ]
  },
  {
   "cell_type": "code",
   "execution_count": 26,
   "id": "c0c04f94",
   "metadata": {},
   "outputs": [
    {
     "name": "stdout",
     "output_type": "stream",
     "text": [
      "0   2022-01-10\n",
      "1   2022-02-10\n",
      "2   2022-03-10\n",
      "dtype: datetime64[ns]\n"
     ]
    }
   ],
   "source": [
    "s1 = pd.Series(['Jan 2022', 'Feb 2022', 'Mar 2022'])\n",
    "s1 = pd.to_datetime(s1)\n",
    "new = s1.apply(lambda s: s.replace(day=10))\n",
    "print(new)"
   ]
  },
  {
   "cell_type": "markdown",
   "id": "c879f987",
   "metadata": {},
   "source": [
    "Из серии (s1) вытяните слова, содержащие не менее 2 гласных.\n",
    "\n"
   ]
  },
  {
   "cell_type": "code",
   "execution_count": 27,
   "id": "06467c0c",
   "metadata": {},
   "outputs": [
    {
     "name": "stdout",
     "output_type": "stream",
     "text": [
      "0     Apple\n",
      "1    Orange\n",
      "4     Money\n",
      "dtype: object\n"
     ]
    }
   ],
   "source": [
    "s1 = pd.Series(['Apple', 'Orange', 'Plan', 'Sky', 'Money'])\n",
    "\n",
    "print(s1.where(pd.Series(map(lambda x: sum(1 for i in x if i.lower() in 'aeiou')>=2, s1))).dropna())"
   ]
  },
  {
   "cell_type": "markdown",
   "id": "33504363",
   "metadata": {},
   "source": [
    "Извлеките корректные почтовые адреса из серии (s1). Используйте pattern для этой задачи.\n",
    "\n"
   ]
  },
  {
   "cell_type": "code",
   "execution_count": 28,
   "id": "b0b5defe",
   "metadata": {},
   "outputs": [
    {
     "name": "stdout",
     "output_type": "stream",
     "text": [
      "1          help@stepik.com\n",
      "2                user@t.co\n",
      "3    lovepandas@google.com\n",
      "dtype: object\n"
     ]
    }
   ],
   "source": [
    "s1 = pd.Series(['teach pandas at stepik.com', 'help@stepik.com', 'user@t.co', 'lovepandas@google.com'])\n",
    "\n",
    "pattern ='[A-Za-z0-9._%+-]+@[A-Za-z0-9.-]+\\\\.[A-Za-z]{2,4}'\n",
    "s2 = s1.str.findall(pattern).str.join('')\n",
    "print(s2[s2!=''])"
   ]
  },
  {
   "cell_type": "markdown",
   "id": "b1e4ca30",
   "metadata": {},
   "source": [
    "Вычислите среднее значение веса каждого фрукта.\n",
    "\n"
   ]
  },
  {
   "cell_type": "code",
   "execution_count": 30,
   "id": "296f3e30",
   "metadata": {},
   "outputs": [
    {
     "name": "stdout",
     "output_type": "stream",
     "text": [
      "apple     6.0\n",
      "banana    4.0\n",
      "carrot    5.8\n",
      "dtype: float64\n"
     ]
    }
   ],
   "source": [
    "fruit_list = ['banana', 'carrot', 'apple', 'carrot', 'carrot', 'apple', 'banana', 'carrot', 'apple', 'carrot']\n",
    "weights_list =  [1.0, 2.0, 3.0, 4.0, 5.0, 6.0, 7.0, 8.0, 9.0, 10.0]\n",
    "\n",
    "fruits = pd.Series(fruit_list)\n",
    "weights = pd.Series(weights_list)\n",
    "s2 = pd.Series(weights.values, fruits.values)\n",
    "print(s2.groupby(level=0).mean())"
   ]
  },
  {
   "cell_type": "markdown",
   "id": "12fb6580",
   "metadata": {},
   "source": [
    "Вычислить евклидово расстояние между рядами (точками) X и Y\n",
    "\n"
   ]
  },
  {
   "cell_type": "code",
   "execution_count": 31,
   "id": "9b157954",
   "metadata": {},
   "outputs": [
    {
     "name": "stdout",
     "output_type": "stream",
     "text": [
      "18.16590212458495\n"
     ]
    }
   ],
   "source": [
    "X = pd.Series([1, 2, 3, 4, 5, 6, 7, 8, 9, 10])\n",
    "Y = pd.Series([10, 9, 8, 7, 6, 5, 4, 3, 2, 1])\n",
    "print(np.linalg.norm(X-Y))"
   ]
  },
  {
   "cell_type": "markdown",
   "id": "3c4d5f30",
   "metadata": {},
   "source": [
    "Определите индексы пиков (значения, окруженные меньшими значениями с обеих сторон).\n",
    "\n"
   ]
  },
  {
   "cell_type": "code",
   "execution_count": 32,
   "id": "ffb67d85",
   "metadata": {},
   "outputs": [
    {
     "name": "stdout",
     "output_type": "stream",
     "text": [
      "[1 5 7]\n"
     ]
    }
   ],
   "source": [
    "a = pd.Series([2, 10, 3, 4, 9, 10, 2, 7, 3])\n",
    "print(np.array(a[(a.shift(1) < a) & (a.shift(-1) < a)].index))\n"
   ]
  },
  {
   "cell_type": "markdown",
   "id": "8a8e936c",
   "metadata": {},
   "source": [
    "В серии (s1) находятся даты с 1 по 8 января 2022 года. Однако некоторые даты и значения к датам пропущены. Сделайте так, чтобы все отсутствующие даты отображались и заполнялись значением из предыдущей даты.\n",
    "\n"
   ]
  },
  {
   "cell_type": "code",
   "execution_count": 33,
   "id": "2c50cdc0",
   "metadata": {},
   "outputs": [
    {
     "name": "stdout",
     "output_type": "stream",
     "text": [
      "2022-01-01     1.0\n",
      "2022-01-02     1.0\n",
      "2022-01-03    10.0\n",
      "2022-01-04    10.0\n",
      "2022-01-05    10.0\n",
      "2022-01-06     3.0\n",
      "2022-01-07     3.0\n",
      "2022-01-08     3.0\n",
      "Freq: D, dtype: float64\n"
     ]
    }
   ],
   "source": [
    "s1 = pd.Series([1,10,3,np.nan], index=pd.to_datetime(['2022-01-01', '2022-01-03', '2022-01-06', '2022-01-08']))\n",
    "\n",
    "idx = pd.date_range(s1.index.min(), s1.index.max())\n",
    "s1.index = pd.DatetimeIndex(s1.index)\n",
    "\n",
    "s1 = s1.reindex(idx)\n",
    "print(s1.fillna(method=\"ffill\"))"
   ]
  },
  {
   "cell_type": "markdown",
   "id": "14a10741",
   "metadata": {},
   "source": [
    "Отредактируйте название колонок датафрейма (df) следующим образом:\n",
    "\n",
    "1. user -> user_name\n",
    "\n",
    "2. все точки в названии колонок заменить нижним подчёркиванием"
   ]
  },
  {
   "cell_type": "code",
   "execution_count": 34,
   "id": "dce40787",
   "metadata": {},
   "outputs": [
    {
     "name": "stdout",
     "output_type": "stream",
     "text": [
      "Index(['user_name', 'user_balance', 'user_age', 'user_group'], dtype='object')\n"
     ]
    }
   ],
   "source": [
    "df = pd.DataFrame(data = {'user' : ['Ivan', 'Petr', 'Alex'], 'user.balance' : [500, 200, 0], 'user.age' : [34, 25, 18], 'user.group' : ['A', 'B', 'A']})\n",
    "df.rename(columns={\"user\": \"user_name\", \"user.balance\": \"user_balance\", 'user.age': 'user_age', 'user.group': 'user_group'})\n",
    "print(df.rename(columns={\"user\": \"user_name\", \"user.balance\": \"user_balance\", 'user.age': 'user_age', 'user.group': 'user_group'}).columns)"
   ]
  },
  {
   "cell_type": "markdown",
   "id": "e86a9fec",
   "metadata": {},
   "source": [
    "Проверьте, имеются ли пропущенные значения в датафрейме (df). Если в строке датафрейма есть хотя-бы одно пропущенное значение - верните True иначе False.\n",
    "\n"
   ]
  },
  {
   "cell_type": "code",
   "execution_count": 35,
   "id": "99ef2bb9",
   "metadata": {},
   "outputs": [
    {
     "name": "stdout",
     "output_type": "stream",
     "text": [
      "True\n"
     ]
    }
   ],
   "source": [
    "df = pd.DataFrame(data = {'user' : ['Ivan', 'Petr', 'Alex'], 'user.balance' : [500, None, 0], 'user.age' : [34, 25, 18], 'user.group' : ['A', 'B', 'A']})\n",
    "\n",
    "print(pd.isnull(df).any().any())"
   ]
  },
  {
   "cell_type": "markdown",
   "id": "1f11da7c",
   "metadata": {},
   "source": [
    "## 1.4 Практическое занятие 4 (Джеки Чан)\n",
    " "
   ]
  },
  {
   "cell_type": "markdown",
   "id": "ea22c169",
   "metadata": {},
   "source": [
    "Подсчитайте количество пропущенных значений в каждом столбце.\n",
    "\n"
   ]
  },
  {
   "cell_type": "code",
   "execution_count": 36,
   "id": "c26c2962",
   "metadata": {},
   "outputs": [
    {
     "name": "stdout",
     "output_type": "stream",
     "text": [
      "user            0\n",
      "user.balance    2\n",
      "user.age        1\n",
      "user.group      0\n",
      "dtype: int64\n"
     ]
    }
   ],
   "source": [
    "df = pd.DataFrame(data = {'user' : ['Ivan', 'Petr', 'Alex', 'Den'], 'user.balance' : [500, None, 0, None], 'user.age' : [34, None, 18, 43], 'user.group' : ['A', 'B', 'A', 'B']})\n",
    "\n",
    "print(pd.isnull(df).sum())"
   ]
  },
  {
   "cell_type": "markdown",
   "id": "649bfdbf",
   "metadata": {},
   "source": [
    "Замените отсутствующие значения в столбцах user.speed и user.bag_weight их соответствующими средними значениями.\n",
    "\n"
   ]
  },
  {
   "cell_type": "code",
   "execution_count": 37,
   "id": "3acd87e0",
   "metadata": {},
   "outputs": [
    {
     "name": "stdout",
     "output_type": "stream",
     "text": [
      "   user.speed  user.bag_weight\n",
      "0        40.0         8.000000\n",
      "1        39.0         4.666667\n",
      "2        42.0         2.000000\n",
      "3        35.0         4.000000\n"
     ]
    },
    {
     "name": "stderr",
     "output_type": "stream",
     "text": [
      "C:\\Users\\1645295\\AppData\\Local\\Temp/ipykernel_9360/3204027713.py:3: FutureWarning: Dropping of nuisance columns in DataFrame reductions (with 'numeric_only=None') is deprecated; in a future version this will raise TypeError.  Select only valid columns before calling the reduction.\n",
      "  df.fillna(df.mean(), inplace = True)\n"
     ]
    }
   ],
   "source": [
    "df = pd.DataFrame(data = {'user' : ['Ivan', 'Petr', 'Alex', 'Den'], 'user.speed' : [40, None, 42, 35], 'user.bag_weight' : [8, None, 2, 4]})\n",
    "\n",
    "df.fillna(df.mean(), inplace = True)\n",
    "print(df[['user.speed', 'user.bag_weight']])\n"
   ]
  },
  {
   "cell_type": "markdown",
   "id": "1b4db302",
   "metadata": {},
   "source": [
    "Поменяйте столбцы А и Е местами в датафрейме:\n",
    "\n"
   ]
  },
  {
   "cell_type": "code",
   "execution_count": 39,
   "id": "911211ca",
   "metadata": {},
   "outputs": [
    {
     "name": "stdout",
     "output_type": "stream",
     "text": [
      "    e   b   c   d   a\n",
      "0   4   1   2   3   0\n",
      "1   9   6   7   8   5\n",
      "2  14  11  12  13  10\n",
      "3  19  16  17  18  15\n"
     ]
    }
   ],
   "source": [
    "df = pd.DataFrame(np.arange(20).reshape(-1, 5), columns=list('abcde'))\n",
    "\n",
    "\n",
    "columns = list(df.columns)\n",
    "flag = columns[0]\n",
    "columns[0]=columns[-1]\n",
    "columns[-1]=flag\n",
    "print(df[columns])"
   ]
  },
  {
   "cell_type": "markdown",
   "id": "5658a3ba",
   "metadata": {},
   "source": [
    "Поменяйте порядок столбцов в датафрейме от Е до А.\n",
    "\n"
   ]
  },
  {
   "cell_type": "code",
   "execution_count": 40,
   "id": "64972d0f",
   "metadata": {},
   "outputs": [
    {
     "name": "stdout",
     "output_type": "stream",
     "text": [
      "    e   d   c   b   a\n",
      "0   4   3   2   1   0\n",
      "1   9   8   7   6   5\n",
      "2  14  13  12  11  10\n",
      "3  19  18  17  16  15\n"
     ]
    }
   ],
   "source": [
    "df = pd.DataFrame(np.arange(20).reshape(-1, 5), columns=list('abcde'))\n",
    "columns_old = list(df.columns)\n",
    "df_new = pd.DataFrame(df, columns=columns_old[::-1])\n",
    "print(df_new)"
   ]
  },
  {
   "cell_type": "markdown",
   "id": "6d678fe1",
   "metadata": {},
   "source": [
    "Выведите на экран строки датафрейма с шагом 2.\n",
    "\n"
   ]
  },
  {
   "cell_type": "code",
   "execution_count": 41,
   "id": "07e74a58",
   "metadata": {},
   "outputs": [
    {
     "name": "stdout",
     "output_type": "stream",
     "text": [
      "     user  user.speed  user.bag_weight\n",
      "0    Ivan        40.0              8.0\n",
      "2    Alex        42.0              2.0\n",
      "4  Viktor        60.0             19.0\n"
     ]
    }
   ],
   "source": [
    "df = pd.DataFrame(data = {'user' : ['Ivan', 'Petr', 'Alex', 'Den', 'Viktor'], 'user.speed' : [40, None, 42, 35, 60], 'user.bag_weight' : [8, None, 2, 4, 19]})\n",
    "indexes = [i for i in range(0,len(df),2)]\n",
    "print(df.iloc[indexes])"
   ]
  },
  {
   "cell_type": "markdown",
   "id": "4565a32c",
   "metadata": {},
   "source": [
    "Создайте составной индекс на основе колонок user и user.number для датафрейма:\n",
    "\n"
   ]
  },
  {
   "cell_type": "code",
   "execution_count": 42,
   "id": "c31e7b4d",
   "metadata": {},
   "outputs": [
    {
     "name": "stdout",
     "output_type": "stream",
     "text": [
      "                  user user.number  user.speed  user.bag_weight\n",
      "Ivan_222-333      Ivan     222-333        40.0              8.0\n",
      "Petr_missing      Petr     missing         NaN              NaN\n",
      "Alex_222-555      Alex     222-555        42.0              2.0\n",
      "Den_222-666        Den     222-666        35.0              4.0\n",
      "Viktor_222-777  Viktor     222-777        60.0             19.0\n"
     ]
    }
   ],
   "source": [
    "df = pd.DataFrame(data = {'user' : ['Ivan', 'Petr', 'Alex', 'Den', 'Viktor'], 'user.number' : ['222-333', None, '222-555', '222-666', '222-777'], 'user.speed' : [40, None, 42, 35, 60], 'user.bag_weight' : [8, None, 2, 4, 19]})\n",
    "\n",
    "df['user.number'].fillna('missing', inplace = True)\n",
    "\n",
    "df.index = (df['user'].str.cat(df['user.number'], sep =\"_\"))\n",
    "df.index.name = None\n",
    "print(df)"
   ]
  },
  {
   "cell_type": "markdown",
   "id": "43296337",
   "metadata": {},
   "source": [
    "Для столбца А найдите индекс строки в которой находится второе наибольшее значение.\n",
    "\n"
   ]
  },
  {
   "cell_type": "code",
   "execution_count": 43,
   "id": "5a006906",
   "metadata": {},
   "outputs": [
    {
     "name": "stdout",
     "output_type": "stream",
     "text": [
      "2\n"
     ]
    }
   ],
   "source": [
    "df = pd.DataFrame([[16,24,29],[1,10,16],[26,21,10],[3,3,8],[6,17,17],[2,25,14],[9,13,21],[27,24,17],[19,29,1],[20,24,6]], columns=list('abc'))\n",
    "\n",
    "ranking = df['a'].rank(ascending=False)\n",
    "index_sec_max = ranking.index[ranking==2.0].to_list()\n",
    "print(index_sec_max[0])\n"
   ]
  },
  {
   "cell_type": "markdown",
   "id": "6210ac67",
   "metadata": {},
   "source": [
    "Выведите последние две строки датафрейма, сумма ячеек которых больше 100.\n",
    "\n"
   ]
  },
  {
   "cell_type": "code",
   "execution_count": 44,
   "id": "e40e302a",
   "metadata": {},
   "outputs": [
    {
     "name": "stdout",
     "output_type": "stream",
     "text": [
      "    0   1   2   3\n",
      "5  35  13  36  21\n",
      "6  32  32  25  17\n"
     ]
    }
   ],
   "source": [
    "df = pd.DataFrame([[23,33,16,35],\n",
    "                   [24,20,13,10],\n",
    "                   [32,33,30,28],\n",
    "                   [13,32,36,18],\n",
    "                   [25,27,31,10],\n",
    "                   [35,13,36,21],\n",
    "                   [32,32,25,17],\n",
    "                   [34,24,23,19]])\n",
    "#df[4] = df.sum(axis = 1)\n",
    "df_transp = df.T\n",
    "\n",
    "print(pd.DataFrame([df_transp[i] for i in df_transp if df_transp[i].sum()>100]).tail(2))"
   ]
  },
  {
   "cell_type": "markdown",
   "id": "2aeedff5",
   "metadata": {},
   "source": [
    "## 1.6 Практическое занятие 6 (Стетхем)\n",
    "\n",
    " "
   ]
  },
  {
   "cell_type": "markdown",
   "id": "4ee59433",
   "metadata": {},
   "source": [
    "Вычтите среднее значение строки из каждого элемента в строке.\n",
    "\n"
   ]
  },
  {
   "cell_type": "code",
   "execution_count": 46,
   "id": "bef6d737",
   "metadata": {},
   "outputs": [
    {
     "name": "stdout",
     "output_type": "stream",
     "text": [
      "          0         1         2\n",
      "0 -0.469429 -0.032952  0.502381\n",
      "1  0.280649  0.092736 -0.373386\n",
      "2 -0.103336  0.085149  0.018186\n"
     ]
    }
   ],
   "source": [
    "df = pd.DataFrame([[0.020448, 0.456925, 0.992258], [0.743399, 0.555486, 0.089364], [0.094699, 0.283184, 0.216221]])\n",
    "\n",
    "print(df.apply(lambda x: x-df.mean(axis=1)))"
   ]
  },
  {
   "cell_type": "markdown",
   "id": "cdb386f6",
   "metadata": {},
   "source": [
    "В каком столбце чисел сумма наименьшая? Выведите на экран название этого столбца.\n",
    "\n"
   ]
  },
  {
   "cell_type": "code",
   "execution_count": 47,
   "id": "d0333131",
   "metadata": {},
   "outputs": [
    {
     "name": "stdout",
     "output_type": "stream",
     "text": [
      "a\n"
     ]
    }
   ],
   "source": [
    "df = pd.DataFrame([[0.020448, 0.456925, 0.992258], [0.743399, 0.555486, 0.089364], [0.094699, 0.283184, 0.216221]], columns=list('abc'))\n",
    "print(df.sum().idxmin())"
   ]
  },
  {
   "cell_type": "markdown",
   "id": "1302f8f5",
   "metadata": {},
   "source": [
    "Как подсчитать, сколько уникальных строк имеет датафрейм (т. е. игнорировать все повторяющиеся строки)?\n",
    "\n"
   ]
  },
  {
   "cell_type": "code",
   "execution_count": 48,
   "id": "0881046c",
   "metadata": {},
   "outputs": [
    {
     "name": "stdout",
     "output_type": "stream",
     "text": [
      "2\n"
     ]
    }
   ],
   "source": [
    "df = pd.DataFrame([[0.020448, 0.456925, 0.992258], [0.743399, 0.555486, 0.089364], [0.020448, 0.456925, 0.992258], [0.094699, 0.283184, 0.216221]], columns=list('abc'))\n",
    "\n",
    "print(df.drop_duplicates(keep=False).shape[0])"
   ]
  },
  {
   "cell_type": "markdown",
   "id": "cf0a5497",
   "metadata": {},
   "source": [
    "Найдите сумму всех значений, которые указаны для среды (Wednesday)\n",
    "\n"
   ]
  },
  {
   "cell_type": "code",
   "execution_count": 51,
   "id": "279f273c",
   "metadata": {},
   "outputs": [
    {
     "name": "stdout",
     "output_type": "stream",
     "text": [
      "23.508792429234397\n"
     ]
    }
   ],
   "source": [
    "dti = pd.date_range(start='2021-01-01', end='2021-12-31', freq='B') \n",
    "s = pd.Series(np.random.RandomState(30).rand(len(dti)), index=dti)\n",
    "\n",
    "#s.apply\n",
    "print(s[s.index.dayofweek==2].sum())"
   ]
  },
  {
   "cell_type": "markdown",
   "id": "627d888b",
   "metadata": {},
   "source": [
    "Для каждого месяца найдите среднее значение.\n",
    "\n"
   ]
  },
  {
   "cell_type": "code",
   "execution_count": 52,
   "id": "a59a7a06",
   "metadata": {},
   "outputs": [
    {
     "name": "stdout",
     "output_type": "stream",
     "text": [
      "2021-01-31    0.507726\n",
      "2021-02-28    0.462692\n",
      "2021-03-31    0.478605\n",
      "2021-04-30    0.564210\n",
      "2021-05-31    0.387735\n",
      "2021-06-30    0.451999\n",
      "2021-07-31    0.541958\n",
      "2021-08-31    0.553241\n",
      "2021-09-30    0.507650\n",
      "2021-10-31    0.453517\n",
      "2021-11-30    0.490528\n",
      "2021-12-31    0.495812\n",
      "Freq: M, dtype: float64\n"
     ]
    }
   ],
   "source": [
    "dti = pd.date_range(start='2021-01-01', end='2021-12-31', freq='B') \n",
    "s = pd.Series(np.random.RandomState(30).rand(len(dti)), index=dti)\n",
    "\n",
    "print(s.groupby(pd.Grouper(freq='M')).mean())"
   ]
  },
  {
   "cell_type": "code",
   "execution_count": null,
   "id": "edf7159f",
   "metadata": {},
   "outputs": [],
   "source": []
  }
 ],
 "metadata": {
  "kernelspec": {
   "display_name": "Python 3 (ipykernel)",
   "language": "python",
   "name": "python3"
  },
  "language_info": {
   "codemirror_mode": {
    "name": "ipython",
    "version": 3
   },
   "file_extension": ".py",
   "mimetype": "text/x-python",
   "name": "python",
   "nbconvert_exporter": "python",
   "pygments_lexer": "ipython3",
   "version": "3.9.7"
  }
 },
 "nbformat": 4,
 "nbformat_minor": 5
}
