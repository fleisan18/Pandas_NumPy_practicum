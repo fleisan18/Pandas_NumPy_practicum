{
 "cells": [
  {
   "cell_type": "code",
   "execution_count": 21,
   "id": "6486792e",
   "metadata": {},
   "outputs": [],
   "source": [
    "import numpy as np\n",
    "import pandas as pd"
   ]
  },
  {
   "cell_type": "markdown",
   "id": "324e87b4",
   "metadata": {},
   "source": [
    "lst = [1,2,3,4.5]\n",
    "lst"
   ]
  },
  {
   "cell_type": "code",
   "execution_count": 4,
   "id": "a7bf9ac1",
   "metadata": {},
   "outputs": [
    {
     "ename": "NameError",
     "evalue": "name 'np' is not defined",
     "output_type": "error",
     "traceback": [
      "\u001b[1;31m---------------------------------------------------------------------------\u001b[0m",
      "\u001b[1;31mNameError\u001b[0m                                 Traceback (most recent call last)",
      "Input \u001b[1;32mIn [4]\u001b[0m, in \u001b[0;36m<cell line: 1>\u001b[1;34m()\u001b[0m\n\u001b[1;32m----> 1\u001b[0m arr1 \u001b[38;5;241m=\u001b[39m \u001b[43mnp\u001b[49m\u001b[38;5;241m.\u001b[39marray(lst)\n\u001b[0;32m      2\u001b[0m arr1\n",
      "\u001b[1;31mNameError\u001b[0m: name 'np' is not defined"
     ]
    }
   ],
   "source": [
    "arr1 = np.array(lst)\n",
    "arr1"
   ]
  },
  {
   "cell_type": "code",
   "execution_count": 6,
   "id": "996d7065",
   "metadata": {},
   "outputs": [
    {
     "data": {
      "text/plain": [
       "[[1, 2, 3], [4, 5, 6]]"
      ]
     },
     "execution_count": 6,
     "metadata": {},
     "output_type": "execute_result"
    }
   ],
   "source": [
    "lst2 = [[1,2,3],[4,5,6]]\n",
    "lst2"
   ]
  },
  {
   "cell_type": "code",
   "execution_count": 8,
   "id": "95bac6ef",
   "metadata": {},
   "outputs": [
    {
     "data": {
      "text/plain": [
       "array([[1, 2, 3],\n",
       "       [4, 5, 6]])"
      ]
     },
     "execution_count": 8,
     "metadata": {},
     "output_type": "execute_result"
    }
   ],
   "source": [
    "arr2 = np.array(lst2)\n",
    "arr2"
   ]
  },
  {
   "cell_type": "code",
   "execution_count": 9,
   "id": "b80007e2",
   "metadata": {},
   "outputs": [],
   "source": [
    "arr2 = np.array([[1,2,3],[4,5,6]])"
   ]
  },
  {
   "cell_type": "markdown",
   "id": "88b6412e",
   "metadata": {},
   "source": [
    "## 2.2 shape, dtype, ndim"
   ]
  },
  {
   "cell_type": "markdown",
   "id": "d1e0f94a",
   "metadata": {},
   "source": [
    "### Как измерить длину массива?"
   ]
  },
  {
   "cell_type": "code",
   "execution_count": 10,
   "id": "74d47039",
   "metadata": {},
   "outputs": [
    {
     "data": {
      "text/plain": [
       "4"
      ]
     },
     "execution_count": 10,
     "metadata": {},
     "output_type": "execute_result"
    }
   ],
   "source": [
    "len(lst)"
   ]
  },
  {
   "cell_type": "code",
   "execution_count": 11,
   "id": "b9317e1e",
   "metadata": {},
   "outputs": [
    {
     "data": {
      "text/plain": [
       "4"
      ]
     },
     "execution_count": 11,
     "metadata": {},
     "output_type": "execute_result"
    }
   ],
   "source": [
    "len(arr1)"
   ]
  },
  {
   "cell_type": "code",
   "execution_count": 12,
   "id": "c62f8441",
   "metadata": {},
   "outputs": [
    {
     "data": {
      "text/plain": [
       "2"
      ]
     },
     "execution_count": 12,
     "metadata": {},
     "output_type": "execute_result"
    }
   ],
   "source": [
    "len(arr2) #количество вложенных списков"
   ]
  },
  {
   "cell_type": "code",
   "execution_count": 14,
   "id": "fc129671",
   "metadata": {},
   "outputs": [
    {
     "data": {
      "text/plain": [
       "(2, 3)"
      ]
     },
     "execution_count": 14,
     "metadata": {},
     "output_type": "execute_result"
    }
   ],
   "source": [
    "arr2.shape\n",
    "#Out: (2 (количество подмассивов),3 (количество элементов в каждом массиве))"
   ]
  },
  {
   "cell_type": "code",
   "execution_count": 16,
   "id": "08df26da",
   "metadata": {},
   "outputs": [
    {
     "data": {
      "text/plain": [
       "2"
      ]
     },
     "execution_count": 16,
     "metadata": {},
     "output_type": "execute_result"
    }
   ],
   "source": [
    "arr2.ndim\n",
    "# показывает вложенность"
   ]
  },
  {
   "cell_type": "markdown",
   "id": "0a8005f1",
   "metadata": {},
   "source": [
    "## 2.3 Типы данных и их преобразование, арифметика, доступ к элементам"
   ]
  },
  {
   "cell_type": "markdown",
   "id": "97aff320",
   "metadata": {},
   "source": [
    "### Тип данных"
   ]
  },
  {
   "cell_type": "code",
   "execution_count": 17,
   "id": "763b4d79",
   "metadata": {},
   "outputs": [
    {
     "data": {
      "text/plain": [
       "dtype('float64')"
      ]
     },
     "execution_count": 17,
     "metadata": {},
     "output_type": "execute_result"
    }
   ],
   "source": [
    "arr1.dtype"
   ]
  },
  {
   "cell_type": "code",
   "execution_count": 18,
   "id": "b1162020",
   "metadata": {},
   "outputs": [],
   "source": [
    "arr3 = np.array([1,2,3,'a'])"
   ]
  },
  {
   "cell_type": "code",
   "execution_count": 22,
   "id": "499e32b0",
   "metadata": {},
   "outputs": [
    {
     "data": {
      "text/plain": [
       "dtype('<U11')"
      ]
     },
     "execution_count": 22,
     "metadata": {},
     "output_type": "execute_result"
    }
   ],
   "source": [
    "arr3.dtype"
   ]
  },
  {
   "cell_type": "markdown",
   "id": "e5b21182",
   "metadata": {},
   "source": [
    "### Инициализация"
   ]
  },
  {
   "cell_type": "markdown",
   "id": "62634381",
   "metadata": {},
   "source": [
    "#### c 0"
   ]
  },
  {
   "cell_type": "code",
   "execution_count": 20,
   "id": "3c41df2d",
   "metadata": {},
   "outputs": [],
   "source": [
    "lst = [0,0,0,0,0,0,0]"
   ]
  },
  {
   "cell_type": "code",
   "execution_count": 23,
   "id": "8bc364d0",
   "metadata": {},
   "outputs": [
    {
     "data": {
      "text/plain": [
       "array([0., 0., 0., 0., 0.])"
      ]
     },
     "execution_count": 23,
     "metadata": {},
     "output_type": "execute_result"
    }
   ],
   "source": [
    "arr1 = np.zeros(5)\n",
    "arr1"
   ]
  },
  {
   "cell_type": "code",
   "execution_count": 25,
   "id": "6a97b92a",
   "metadata": {},
   "outputs": [
    {
     "data": {
      "text/plain": [
       "array([[[0., 0.],\n",
       "        [0., 0.],\n",
       "        [0., 0.],\n",
       "        [0., 0.],\n",
       "        [0., 0.]],\n",
       "\n",
       "       [[0., 0.],\n",
       "        [0., 0.],\n",
       "        [0., 0.],\n",
       "        [0., 0.],\n",
       "        [0., 0.]],\n",
       "\n",
       "       [[0., 0.],\n",
       "        [0., 0.],\n",
       "        [0., 0.],\n",
       "        [0., 0.],\n",
       "        [0., 0.]]])"
      ]
     },
     "execution_count": 25,
     "metadata": {},
     "output_type": "execute_result"
    }
   ],
   "source": [
    "arr2 = np.zeros((3,5, 2))\n",
    "arr2"
   ]
  },
  {
   "cell_type": "markdown",
   "id": "95922b3f",
   "metadata": {},
   "source": [
    "#### с определенными значениями"
   ]
  },
  {
   "cell_type": "code",
   "execution_count": 27,
   "id": "d40ba9f3",
   "metadata": {},
   "outputs": [
    {
     "data": {
      "text/plain": [
       "array([1., 1., 1., 1., 1.])"
      ]
     },
     "execution_count": 27,
     "metadata": {},
     "output_type": "execute_result"
    }
   ],
   "source": [
    "arr1 = np.ones(5)\n",
    "arr1"
   ]
  },
  {
   "cell_type": "code",
   "execution_count": 28,
   "id": "65b71fbc",
   "metadata": {},
   "outputs": [
    {
     "data": {
      "text/plain": [
       "array([[1., 1., 1.],\n",
       "       [1., 1., 1.],\n",
       "       [1., 1., 1.],\n",
       "       [1., 1., 1.],\n",
       "       [1., 1., 1.]])"
      ]
     },
     "execution_count": 28,
     "metadata": {},
     "output_type": "execute_result"
    }
   ],
   "source": [
    "arr2 = np.ones((5,3))\n",
    "arr2"
   ]
  },
  {
   "cell_type": "code",
   "execution_count": 29,
   "id": "cbfe1c24",
   "metadata": {},
   "outputs": [
    {
     "data": {
      "text/plain": [
       "array([-1, -1, -1, -1, -1])"
      ]
     },
     "execution_count": 29,
     "metadata": {},
     "output_type": "execute_result"
    }
   ],
   "source": [
    "arr3 = np.full(5, -1)\n",
    "arr3"
   ]
  },
  {
   "cell_type": "code",
   "execution_count": 32,
   "id": "cfc9797c",
   "metadata": {},
   "outputs": [
    {
     "data": {
      "text/plain": [
       "array([[-1, -1, -1],\n",
       "       [-1, -1, -1],\n",
       "       [-1, -1, -1],\n",
       "       [-1, -1, -1],\n",
       "       [-1, -1, -1]])"
      ]
     },
     "execution_count": 32,
     "metadata": {},
     "output_type": "execute_result"
    }
   ],
   "source": [
    "arr4 = np.full((5,3), -1)\n",
    "arr4"
   ]
  },
  {
   "cell_type": "markdown",
   "id": "47988618",
   "metadata": {},
   "source": [
    "#### с какой-то последовательностью"
   ]
  },
  {
   "cell_type": "code",
   "execution_count": 33,
   "id": "0f1d6a9b",
   "metadata": {},
   "outputs": [
    {
     "data": {
      "text/plain": [
       "[0, 1, 2, 3, 4, 5, 6, 7, 8, 9]"
      ]
     },
     "execution_count": 33,
     "metadata": {},
     "output_type": "execute_result"
    }
   ],
   "source": [
    "lst = list(range(10))\n",
    "lst"
   ]
  },
  {
   "cell_type": "code",
   "execution_count": 34,
   "id": "01603950",
   "metadata": {},
   "outputs": [
    {
     "data": {
      "text/plain": [
       "array([0, 1, 2, 3, 4, 5, 6, 7, 8, 9])"
      ]
     },
     "execution_count": 34,
     "metadata": {},
     "output_type": "execute_result"
    }
   ],
   "source": [
    "arr1 = np.arange(10)\n",
    "arr1"
   ]
  },
  {
   "cell_type": "markdown",
   "id": "7245bbd7",
   "metadata": {},
   "source": [
    "### Типы данных"
   ]
  },
  {
   "cell_type": "markdown",
   "id": "646f5d5c",
   "metadata": {},
   "source": [
    "#### 1"
   ]
  },
  {
   "cell_type": "code",
   "execution_count": 5,
   "id": "da4f89cc",
   "metadata": {},
   "outputs": [
    {
     "data": {
      "text/plain": [
       "dtype('int32')"
      ]
     },
     "execution_count": 5,
     "metadata": {},
     "output_type": "execute_result"
    }
   ],
   "source": [
    "arr1 = np.array([1,2,3,4,5])\n",
    "arr1.dtype"
   ]
  },
  {
   "cell_type": "code",
   "execution_count": 8,
   "id": "d4cec1da",
   "metadata": {},
   "outputs": [
    {
     "data": {
      "text/plain": [
       "dtype('float64')"
      ]
     },
     "execution_count": 8,
     "metadata": {},
     "output_type": "execute_result"
    }
   ],
   "source": [
    "arr1 = np.array([1,2,3,4,5], dtype=np.float64)\n",
    "arr1.dtype"
   ]
  },
  {
   "cell_type": "code",
   "execution_count": 9,
   "id": "420a1fb4",
   "metadata": {},
   "outputs": [
    {
     "data": {
      "text/plain": [
       "array([1, 2, 3, 4, 5], dtype=int64)"
      ]
     },
     "execution_count": 9,
     "metadata": {},
     "output_type": "execute_result"
    }
   ],
   "source": [
    "arr2 = arr2.astype(np.int64)\n",
    "arr2"
   ]
  },
  {
   "cell_type": "code",
   "execution_count": 11,
   "id": "186cd783",
   "metadata": {},
   "outputs": [
    {
     "data": {
      "text/plain": [
       "dtype('float64')"
      ]
     },
     "execution_count": 11,
     "metadata": {},
     "output_type": "execute_result"
    }
   ],
   "source": [
    "arr1 = np.array([1.1,2.2,3.3,4.4,5.5])\n",
    "arr1.dtype"
   ]
  },
  {
   "cell_type": "code",
   "execution_count": 12,
   "id": "3df5f01a",
   "metadata": {},
   "outputs": [
    {
     "data": {
      "text/plain": [
       "array([1, 2, 3, 4, 5], dtype=int64)"
      ]
     },
     "execution_count": 12,
     "metadata": {},
     "output_type": "execute_result"
    }
   ],
   "source": [
    "arr1.astype(np.int64)"
   ]
  },
  {
   "cell_type": "code",
   "execution_count": 13,
   "id": "d1c71acb",
   "metadata": {},
   "outputs": [
    {
     "data": {
      "text/plain": [
       "array(['1.1', '2.2', '3.3', '4.4', '5.5'], dtype='<U3')"
      ]
     },
     "execution_count": 13,
     "metadata": {},
     "output_type": "execute_result"
    }
   ],
   "source": [
    "arr1 = np.array(['1.1','2.2','3.3','4.4','5.5'])\n",
    "arr1"
   ]
  },
  {
   "cell_type": "code",
   "execution_count": 14,
   "id": "4ef249d7",
   "metadata": {},
   "outputs": [
    {
     "data": {
      "text/plain": [
       "array([1.1, 2.2, 3.3, 4.4, 5.5])"
      ]
     },
     "execution_count": 14,
     "metadata": {},
     "output_type": "execute_result"
    }
   ],
   "source": [
    "arr2 = arr1.astype(np.float64)\n",
    "arr2"
   ]
  },
  {
   "cell_type": "markdown",
   "id": "5c044b8c",
   "metadata": {},
   "source": [
    "#### 2"
   ]
  },
  {
   "cell_type": "code",
   "execution_count": 8,
   "id": "71de76ec",
   "metadata": {},
   "outputs": [
    {
     "data": {
      "text/plain": [
       "dtype('int32')"
      ]
     },
     "execution_count": 8,
     "metadata": {},
     "output_type": "execute_result"
    }
   ],
   "source": [
    "m1 = np.arange(10)\n",
    "m1.dtype"
   ]
  },
  {
   "cell_type": "code",
   "execution_count": 18,
   "id": "7f669b50",
   "metadata": {},
   "outputs": [
    {
     "data": {
      "text/plain": [
       "dtype('float64')"
      ]
     },
     "execution_count": 18,
     "metadata": {},
     "output_type": "execute_result"
    }
   ],
   "source": [
    "m2 = np.array([1.1,2.2,3.3,4.4,5.5])\n",
    "m2.dtype"
   ]
  },
  {
   "cell_type": "code",
   "execution_count": 19,
   "id": "c7391f6b",
   "metadata": {},
   "outputs": [
    {
     "data": {
      "text/plain": [
       "dtype('float64')"
      ]
     },
     "execution_count": 19,
     "metadata": {},
     "output_type": "execute_result"
    }
   ],
   "source": [
    "m3 = m1.astype(m2.dtype)\n",
    "m3.dtype"
   ]
  },
  {
   "cell_type": "markdown",
   "id": "13d81fda",
   "metadata": {},
   "source": [
    "### Арифметика"
   ]
  },
  {
   "cell_type": "markdown",
   "id": "09d90daa",
   "metadata": {},
   "source": [
    "#### умножение"
   ]
  },
  {
   "cell_type": "code",
   "execution_count": 21,
   "id": "018ab234",
   "metadata": {},
   "outputs": [],
   "source": [
    "lst = [1,2,3,4]"
   ]
  },
  {
   "cell_type": "code",
   "execution_count": 22,
   "id": "7a514c62",
   "metadata": {},
   "outputs": [
    {
     "data": {
      "text/plain": [
       "[1, 2, 3, 4, 1, 2, 3, 4]"
      ]
     },
     "execution_count": 22,
     "metadata": {},
     "output_type": "execute_result"
    }
   ],
   "source": [
    "lst * 2"
   ]
  },
  {
   "cell_type": "code",
   "execution_count": 26,
   "id": "bfeac7e9",
   "metadata": {},
   "outputs": [],
   "source": [
    "m1 = np.array(lst)"
   ]
  },
  {
   "cell_type": "code",
   "execution_count": 27,
   "id": "ad9d952e",
   "metadata": {},
   "outputs": [
    {
     "data": {
      "text/plain": [
       "array([2, 4, 6, 8])"
      ]
     },
     "execution_count": 27,
     "metadata": {},
     "output_type": "execute_result"
    }
   ],
   "source": [
    "m1 * 2"
   ]
  },
  {
   "cell_type": "markdown",
   "id": "ec8e1edc",
   "metadata": {},
   "source": [
    "#### сложение"
   ]
  },
  {
   "cell_type": "code",
   "execution_count": 28,
   "id": "287cded1",
   "metadata": {},
   "outputs": [
    {
     "ename": "TypeError",
     "evalue": "can only concatenate list (not \"int\") to list",
     "output_type": "error",
     "traceback": [
      "\u001b[1;31m---------------------------------------------------------------------------\u001b[0m",
      "\u001b[1;31mTypeError\u001b[0m                                 Traceback (most recent call last)",
      "\u001b[1;32m~\\AppData\\Local\\Temp/ipykernel_2624/545246187.py\u001b[0m in \u001b[0;36m<module>\u001b[1;34m\u001b[0m\n\u001b[1;32m----> 1\u001b[1;33m \u001b[0mlst\u001b[0m \u001b[1;33m+\u001b[0m \u001b[1;36m1\u001b[0m\u001b[1;33m\u001b[0m\u001b[1;33m\u001b[0m\u001b[0m\n\u001b[0m",
      "\u001b[1;31mTypeError\u001b[0m: can only concatenate list (not \"int\") to list"
     ]
    }
   ],
   "source": [
    "lst + 1"
   ]
  },
  {
   "cell_type": "code",
   "execution_count": 29,
   "id": "38d65a9c",
   "metadata": {},
   "outputs": [
    {
     "data": {
      "text/plain": [
       "array([2, 3, 4, 5])"
      ]
     },
     "execution_count": 29,
     "metadata": {},
     "output_type": "execute_result"
    }
   ],
   "source": [
    "m1 + 1"
   ]
  },
  {
   "cell_type": "markdown",
   "id": "9096082f",
   "metadata": {},
   "source": [
    "### Сравнение"
   ]
  },
  {
   "cell_type": "code",
   "execution_count": 31,
   "id": "1adfa536",
   "metadata": {},
   "outputs": [],
   "source": [
    "temp_1006 = [36.6, 35.8, 38.7]\n",
    "temp_1106 = [36.6, 36.6, 36.6]"
   ]
  },
  {
   "cell_type": "code",
   "execution_count": 32,
   "id": "be2a8613",
   "metadata": {},
   "outputs": [
    {
     "data": {
      "text/plain": [
       "True"
      ]
     },
     "execution_count": 32,
     "metadata": {},
     "output_type": "execute_result"
    }
   ],
   "source": [
    "temp_1106>temp_1006"
   ]
  },
  {
   "cell_type": "code",
   "execution_count": 34,
   "id": "a04b6b86",
   "metadata": {},
   "outputs": [],
   "source": [
    "m1_1006 = np.array(temp_1006)\n",
    "m2_1106 = np.array(temp_1106)"
   ]
  },
  {
   "cell_type": "code",
   "execution_count": 35,
   "id": "9ff83f69",
   "metadata": {},
   "outputs": [
    {
     "data": {
      "text/plain": [
       "array([False,  True, False])"
      ]
     },
     "execution_count": 35,
     "metadata": {},
     "output_type": "execute_result"
    }
   ],
   "source": [
    "m2_1106>m1_1006"
   ]
  },
  {
   "cell_type": "code",
   "execution_count": 38,
   "id": "66324bee",
   "metadata": {},
   "outputs": [
    {
     "data": {
      "text/plain": [
       "array([10, 11, 12, 13, 14, 15, 16, 17, 18, 19])"
      ]
     },
     "execution_count": 38,
     "metadata": {},
     "output_type": "execute_result"
    }
   ],
   "source": [
    "arr = np.arange(10,20)\n",
    "arr"
   ]
  },
  {
   "cell_type": "markdown",
   "id": "926a1a01",
   "metadata": {},
   "source": [
    "## 2.5 Двумерные и трехмерные массивы. Учимся применять индексы"
   ]
  },
  {
   "cell_type": "markdown",
   "id": "55ed6daa",
   "metadata": {},
   "source": [
    "#### работаем в срезе, не меняя исходный массив"
   ]
  },
  {
   "cell_type": "code",
   "execution_count": 17,
   "id": "9a1fbbc2",
   "metadata": {},
   "outputs": [],
   "source": [
    "m1 = np.arange(10)"
   ]
  },
  {
   "cell_type": "code",
   "execution_count": 18,
   "id": "42a1a189",
   "metadata": {},
   "outputs": [
    {
     "data": {
      "text/plain": [
       "array([3, 4, 5])"
      ]
     },
     "execution_count": 18,
     "metadata": {},
     "output_type": "execute_result"
    }
   ],
   "source": [
    "m2=m1[3:6].copy() #чтобы не менялся элемент в исходном списке\n",
    "m2"
   ]
  },
  {
   "cell_type": "code",
   "execution_count": 19,
   "id": "278fa8bd",
   "metadata": {},
   "outputs": [
    {
     "data": {
      "text/plain": [
       "array([0, 4, 5])"
      ]
     },
     "execution_count": 19,
     "metadata": {},
     "output_type": "execute_result"
    }
   ],
   "source": [
    "m2[0]=0\n",
    "m2"
   ]
  },
  {
   "cell_type": "code",
   "execution_count": 20,
   "id": "dc1e3810",
   "metadata": {},
   "outputs": [
    {
     "data": {
      "text/plain": [
       "array([0, 1, 2, 3, 4, 5, 6, 7, 8, 9])"
      ]
     },
     "execution_count": 20,
     "metadata": {},
     "output_type": "execute_result"
    }
   ],
   "source": [
    "m1"
   ]
  },
  {
   "cell_type": "code",
   "execution_count": 3,
   "id": "b93ad005",
   "metadata": {},
   "outputs": [
    {
     "data": {
      "text/plain": [
       "array([[1, 2, 3],\n",
       "       [4, 5, 6]])"
      ]
     },
     "execution_count": 3,
     "metadata": {},
     "output_type": "execute_result"
    }
   ],
   "source": [
    "m2d = np.array([[1,2,3],[4,5,6]])\n",
    "m2d"
   ]
  },
  {
   "cell_type": "markdown",
   "id": "585ad447",
   "metadata": {},
   "source": [
    "#### индексы в двумерном массиве"
   ]
  },
  {
   "cell_type": "code",
   "execution_count": 25,
   "id": "4b7b5e75",
   "metadata": {},
   "outputs": [
    {
     "data": {
      "text/plain": [
       "5"
      ]
     },
     "execution_count": 25,
     "metadata": {},
     "output_type": "execute_result"
    }
   ],
   "source": [
    "m2d[1][1]"
   ]
  },
  {
   "cell_type": "code",
   "execution_count": 34,
   "id": "519de6a0",
   "metadata": {},
   "outputs": [
    {
     "data": {
      "text/plain": [
       "5"
      ]
     },
     "execution_count": 34,
     "metadata": {},
     "output_type": "execute_result"
    }
   ],
   "source": [
    "m2d[1,1]"
   ]
  },
  {
   "cell_type": "code",
   "execution_count": 4,
   "id": "54b07a13",
   "metadata": {},
   "outputs": [
    {
     "data": {
      "text/plain": [
       "array([[ 1,  2,  3,  4],\n",
       "       [ 5,  6,  7,  8],\n",
       "       [ 9, 10, 11, 12],\n",
       "       [13, 14, 15, 16],\n",
       "       [17, 18, 19, 20]])"
      ]
     },
     "execution_count": 4,
     "metadata": {},
     "output_type": "execute_result"
    }
   ],
   "source": [
    "m2d = np.array([[1,2,3,4], [5,6,7,8], [9,10,11,12], [13,14,15,16], [17,18,19,20]])\n",
    "m2d"
   ]
  },
  {
   "cell_type": "code",
   "execution_count": 44,
   "id": "cb522b97",
   "metadata": {},
   "outputs": [
    {
     "data": {
      "text/plain": [
       "array([[ 9, 10, 11, 12],\n",
       "       [13, 14, 15, 16]])"
      ]
     },
     "execution_count": 44,
     "metadata": {},
     "output_type": "execute_result"
    }
   ],
   "source": [
    "m2d[2:4]"
   ]
  },
  {
   "cell_type": "code",
   "execution_count": 39,
   "id": "476ba2f5",
   "metadata": {},
   "outputs": [
    {
     "data": {
      "text/plain": [
       "array([[ 5,  6,  7,  8],\n",
       "       [ 9, 10, 11, 12],\n",
       "       [13, 14, 15, 16],\n",
       "       [17, 18, 19, 20]])"
      ]
     },
     "execution_count": 39,
     "metadata": {},
     "output_type": "execute_result"
    }
   ],
   "source": [
    "m2d[1:]"
   ]
  },
  {
   "cell_type": "code",
   "execution_count": 40,
   "id": "3972a32a",
   "metadata": {},
   "outputs": [
    {
     "data": {
      "text/plain": [
       "array([[ 1,  2,  3,  4],\n",
       "       [ 5,  6,  7,  8],\n",
       "       [ 9, 10, 11, 12],\n",
       "       [13, 14, 15, 16]])"
      ]
     },
     "execution_count": 40,
     "metadata": {},
     "output_type": "execute_result"
    }
   ],
   "source": [
    "m2d[:4]"
   ]
  },
  {
   "cell_type": "code",
   "execution_count": 43,
   "id": "40f5ea88",
   "metadata": {},
   "outputs": [
    {
     "data": {
      "text/plain": [
       "array([ 1,  5,  9, 13, 17])"
      ]
     },
     "execution_count": 43,
     "metadata": {},
     "output_type": "execute_result"
    }
   ],
   "source": [
    "m2d[:,0]"
   ]
  },
  {
   "cell_type": "code",
   "execution_count": 45,
   "id": "4572dc72",
   "metadata": {},
   "outputs": [
    {
     "data": {
      "text/plain": [
       "array([ 3,  7, 11, 15, 19])"
      ]
     },
     "execution_count": 45,
     "metadata": {},
     "output_type": "execute_result"
    }
   ],
   "source": [
    "m2d[:,2]"
   ]
  },
  {
   "cell_type": "code",
   "execution_count": 46,
   "id": "ec775f6a",
   "metadata": {},
   "outputs": [
    {
     "data": {
      "text/plain": [
       "array([[ 2,  3],\n",
       "       [ 6,  7],\n",
       "       [10, 11],\n",
       "       [14, 15],\n",
       "       [18, 19]])"
      ]
     },
     "execution_count": 46,
     "metadata": {},
     "output_type": "execute_result"
    }
   ],
   "source": [
    "m2d[:, 1:3]"
   ]
  },
  {
   "cell_type": "code",
   "execution_count": 47,
   "id": "351e8ebf",
   "metadata": {},
   "outputs": [
    {
     "data": {
      "text/plain": [
       "array([[1, 2],\n",
       "       [5, 6]])"
      ]
     },
     "execution_count": 47,
     "metadata": {},
     "output_type": "execute_result"
    }
   ],
   "source": [
    "m2d[:2, :2]"
   ]
  },
  {
   "cell_type": "code",
   "execution_count": 48,
   "id": "b7c110b2",
   "metadata": {},
   "outputs": [
    {
     "data": {
      "text/plain": [
       "array([[15, 16],\n",
       "       [19, 20]])"
      ]
     },
     "execution_count": 48,
     "metadata": {},
     "output_type": "execute_result"
    }
   ],
   "source": [
    "m2d[-2:, -2:]"
   ]
  },
  {
   "cell_type": "code",
   "execution_count": 50,
   "id": "9ca81d39",
   "metadata": {},
   "outputs": [
    {
     "data": {
      "text/plain": [
       "array([[ 6,  7],\n",
       "       [10, 11],\n",
       "       [14, 15]])"
      ]
     },
     "execution_count": 50,
     "metadata": {},
     "output_type": "execute_result"
    }
   ],
   "source": [
    "m2d[1:4, 1:3]"
   ]
  },
  {
   "cell_type": "markdown",
   "id": "2f775bb5",
   "metadata": {},
   "source": [
    "#### индексы в трехмерном массиве"
   ]
  },
  {
   "cell_type": "code",
   "execution_count": 27,
   "id": "dfcc4408",
   "metadata": {},
   "outputs": [
    {
     "data": {
      "text/plain": [
       "array([[[ 1,  2,  3],\n",
       "        [ 4,  5,  6]],\n",
       "\n",
       "       [[ 7,  8,  9],\n",
       "        [10, 11, 12]]])"
      ]
     },
     "execution_count": 27,
     "metadata": {},
     "output_type": "execute_result"
    }
   ],
   "source": [
    "m3d = np.array([[[1,2,3], [4,5,6]],[[7,8,9],[10,11,12]]])\n",
    "m3d"
   ]
  },
  {
   "cell_type": "code",
   "execution_count": 28,
   "id": "bfba266a",
   "metadata": {},
   "outputs": [
    {
     "data": {
      "text/plain": [
       "(2, 2, 3)"
      ]
     },
     "execution_count": 28,
     "metadata": {},
     "output_type": "execute_result"
    }
   ],
   "source": [
    "m3d.shape\n",
    "# Out: (2 - 2 двумерных массива, 2 - количество строк в двумерном массиве,3 - количество столбцов)"
   ]
  },
  {
   "cell_type": "code",
   "execution_count": 32,
   "id": "f7b2ade3",
   "metadata": {},
   "outputs": [
    {
     "data": {
      "text/plain": [
       "11"
      ]
     },
     "execution_count": 32,
     "metadata": {},
     "output_type": "execute_result"
    }
   ],
   "source": [
    "m3d[1,1,1]"
   ]
  },
  {
   "cell_type": "code",
   "execution_count": 33,
   "id": "46772de6",
   "metadata": {},
   "outputs": [
    {
     "data": {
      "text/plain": [
       "array([[[ 0,  0,  0],\n",
       "        [ 0,  0,  0]],\n",
       "\n",
       "       [[ 7,  8,  9],\n",
       "        [10, 11, 12]]])"
      ]
     },
     "execution_count": 33,
     "metadata": {},
     "output_type": "execute_result"
    }
   ],
   "source": [
    "m3d[0] = 0\n",
    "m3d"
   ]
  },
  {
   "cell_type": "markdown",
   "id": "b25e9e44",
   "metadata": {},
   "source": [
    "#### с помощью маски"
   ]
  },
  {
   "cell_type": "code",
   "execution_count": 51,
   "id": "6947ee43",
   "metadata": {},
   "outputs": [],
   "source": [
    "arr = np.arange(5)"
   ]
  },
  {
   "cell_type": "code",
   "execution_count": 53,
   "id": "f6f53754",
   "metadata": {},
   "outputs": [],
   "source": [
    "mask= [True, True, False, False, True]"
   ]
  },
  {
   "cell_type": "code",
   "execution_count": 54,
   "id": "1fdd12ad",
   "metadata": {},
   "outputs": [
    {
     "data": {
      "text/plain": [
       "array([0, 1, 4])"
      ]
     },
     "execution_count": 54,
     "metadata": {},
     "output_type": "execute_result"
    }
   ],
   "source": [
    "arr[mask]"
   ]
  },
  {
   "cell_type": "code",
   "execution_count": 2,
   "id": "8d1f45ab",
   "metadata": {},
   "outputs": [
    {
     "ename": "NameError",
     "evalue": "name 'm2d' is not defined",
     "output_type": "error",
     "traceback": [
      "\u001b[1;31m---------------------------------------------------------------------------\u001b[0m",
      "\u001b[1;31mNameError\u001b[0m                                 Traceback (most recent call last)",
      "\u001b[1;32m~\\AppData\\Local\\Temp/ipykernel_5956/2396920233.py\u001b[0m in \u001b[0;36m<module>\u001b[1;34m\u001b[0m\n\u001b[1;32m----> 1\u001b[1;33m \u001b[0mm2d\u001b[0m\u001b[1;33m[\u001b[0m\u001b[1;36m2\u001b[0m\u001b[1;33m:\u001b[0m\u001b[1;36m3\u001b[0m\u001b[1;33m]\u001b[0m\u001b[1;33m\u001b[0m\u001b[1;33m\u001b[0m\u001b[0m\n\u001b[0m",
      "\u001b[1;31mNameError\u001b[0m: name 'm2d' is not defined"
     ]
    }
   ],
   "source": [
    "m2d[2:3]"
   ]
  },
  {
   "cell_type": "code",
   "execution_count": 4,
   "id": "57b63b94",
   "metadata": {},
   "outputs": [
    {
     "data": {
      "text/plain": [
       "array([[ 6,  8, 10, 12]])"
      ]
     },
     "execution_count": 4,
     "metadata": {},
     "output_type": "execute_result"
    }
   ],
   "source": [
    "m2d[:1]+m2d[1:2]"
   ]
  },
  {
   "cell_type": "code",
   "execution_count": 7,
   "id": "5d66d0c9",
   "metadata": {},
   "outputs": [
    {
     "data": {
      "text/plain": [
       "array([[ 1],\n",
       "       [ 5],\n",
       "       [ 9],\n",
       "       [13],\n",
       "       [17]])"
      ]
     },
     "execution_count": 7,
     "metadata": {},
     "output_type": "execute_result"
    }
   ],
   "source": [
    "m2d[:, :1]"
   ]
  },
  {
   "cell_type": "code",
   "execution_count": 12,
   "id": "89a62002",
   "metadata": {},
   "outputs": [
    {
     "ename": "TypeError",
     "evalue": "only integer scalar arrays can be converted to a scalar index",
     "output_type": "error",
     "traceback": [
      "\u001b[1;31m---------------------------------------------------------------------------\u001b[0m",
      "\u001b[1;31mTypeError\u001b[0m                                 Traceback (most recent call last)",
      "\u001b[1;32m~\\AppData\\Local\\Temp/ipykernel_5956/3464940881.py\u001b[0m in \u001b[0;36m<module>\u001b[1;34m\u001b[0m\n\u001b[1;32m----> 1\u001b[1;33m \u001b[0mnp\u001b[0m\u001b[1;33m.\u001b[0m\u001b[0msum\u001b[0m\u001b[1;33m(\u001b[0m\u001b[0mm2d\u001b[0m\u001b[1;33m[\u001b[0m\u001b[1;33m:\u001b[0m\u001b[1;33m,\u001b[0m \u001b[1;36m2\u001b[0m\u001b[1;33m:\u001b[0m\u001b[1;36m3\u001b[0m\u001b[1;33m]\u001b[0m\u001b[1;33m,\u001b[0m \u001b[0mm2d\u001b[0m\u001b[1;33m[\u001b[0m\u001b[1;33m:\u001b[0m\u001b[1;33m,\u001b[0m \u001b[1;33m:\u001b[0m\u001b[1;36m1\u001b[0m\u001b[1;33m]\u001b[0m\u001b[1;33m)\u001b[0m\u001b[1;33m\u001b[0m\u001b[1;33m\u001b[0m\u001b[0m\n\u001b[0m",
      "\u001b[1;32m<__array_function__ internals>\u001b[0m in \u001b[0;36msum\u001b[1;34m(*args, **kwargs)\u001b[0m\n",
      "\u001b[1;32m~\\anaconda3\\lib\\site-packages\\numpy\\core\\fromnumeric.py\u001b[0m in \u001b[0;36msum\u001b[1;34m(a, axis, dtype, out, keepdims, initial, where)\u001b[0m\n\u001b[0;32m   2245\u001b[0m         \u001b[1;32mreturn\u001b[0m \u001b[0mres\u001b[0m\u001b[1;33m\u001b[0m\u001b[1;33m\u001b[0m\u001b[0m\n\u001b[0;32m   2246\u001b[0m \u001b[1;33m\u001b[0m\u001b[0m\n\u001b[1;32m-> 2247\u001b[1;33m     return _wrapreduction(a, np.add, 'sum', axis, dtype, out, keepdims=keepdims,\n\u001b[0m\u001b[0;32m   2248\u001b[0m                           initial=initial, where=where)\n\u001b[0;32m   2249\u001b[0m \u001b[1;33m\u001b[0m\u001b[0m\n",
      "\u001b[1;32m~\\anaconda3\\lib\\site-packages\\numpy\\core\\fromnumeric.py\u001b[0m in \u001b[0;36m_wrapreduction\u001b[1;34m(obj, ufunc, method, axis, dtype, out, **kwargs)\u001b[0m\n\u001b[0;32m     85\u001b[0m                 \u001b[1;32mreturn\u001b[0m \u001b[0mreduction\u001b[0m\u001b[1;33m(\u001b[0m\u001b[0maxis\u001b[0m\u001b[1;33m=\u001b[0m\u001b[0maxis\u001b[0m\u001b[1;33m,\u001b[0m \u001b[0mout\u001b[0m\u001b[1;33m=\u001b[0m\u001b[0mout\u001b[0m\u001b[1;33m,\u001b[0m \u001b[1;33m**\u001b[0m\u001b[0mpasskwargs\u001b[0m\u001b[1;33m)\u001b[0m\u001b[1;33m\u001b[0m\u001b[1;33m\u001b[0m\u001b[0m\n\u001b[0;32m     86\u001b[0m \u001b[1;33m\u001b[0m\u001b[0m\n\u001b[1;32m---> 87\u001b[1;33m     \u001b[1;32mreturn\u001b[0m \u001b[0mufunc\u001b[0m\u001b[1;33m.\u001b[0m\u001b[0mreduce\u001b[0m\u001b[1;33m(\u001b[0m\u001b[0mobj\u001b[0m\u001b[1;33m,\u001b[0m \u001b[0maxis\u001b[0m\u001b[1;33m,\u001b[0m \u001b[0mdtype\u001b[0m\u001b[1;33m,\u001b[0m \u001b[0mout\u001b[0m\u001b[1;33m,\u001b[0m \u001b[1;33m**\u001b[0m\u001b[0mpasskwargs\u001b[0m\u001b[1;33m)\u001b[0m\u001b[1;33m\u001b[0m\u001b[1;33m\u001b[0m\u001b[0m\n\u001b[0m\u001b[0;32m     88\u001b[0m \u001b[1;33m\u001b[0m\u001b[0m\n\u001b[0;32m     89\u001b[0m \u001b[1;33m\u001b[0m\u001b[0m\n",
      "\u001b[1;31mTypeError\u001b[0m: only integer scalar arrays can be converted to a scalar index"
     ]
    }
   ],
   "source": [
    "np.sum(m2d[:, 2:3], m2d[:, :1])"
   ]
  },
  {
   "cell_type": "markdown",
   "id": "8099a76a",
   "metadata": {},
   "source": [
    "## 2.7 Маска и слайсинг вместе, прихотливая индексация, а еще reshape\n",
    "\n",
    "**Задача: вывести график посещений Андрея по выходным**"
   ]
  },
  {
   "cell_type": "code",
   "execution_count": 11,
   "id": "97b209e4",
   "metadata": {},
   "outputs": [],
   "source": [
    "visits = np.array([\n",
    "    [1,2,1,0,0,1,1],\n",
    "    [0,0,1,0,3,1,2],\n",
    "    [2,1,0,2,0,2,1],\n",
    "    [1,2,1,0,1,1,1],\n",
    "    [1,2,1,0,0,1,0]\n",
    "])\n",
    "users = np.array(['Андрей', 'Иван', 'Николай', 'Александр', 'Андрей'])"
   ]
  },
  {
   "cell_type": "code",
   "execution_count": 20,
   "id": "680eb4d9",
   "metadata": {},
   "outputs": [
    {
     "data": {
      "text/plain": [
       "array([ True, False, False, False,  True])"
      ]
     },
     "execution_count": 20,
     "metadata": {},
     "output_type": "execute_result"
    }
   ],
   "source": [
    "mask = users == 'Андрей'\n",
    "mask"
   ]
  },
  {
   "cell_type": "code",
   "execution_count": 15,
   "id": "0185927c",
   "metadata": {},
   "outputs": [
    {
     "data": {
      "text/plain": [
       "array([[1, 1],\n",
       "       [1, 0]])"
      ]
     },
     "execution_count": 15,
     "metadata": {},
     "output_type": "execute_result"
    }
   ],
   "source": [
    "visits[mask, 5:]"
   ]
  },
  {
   "cell_type": "markdown",
   "id": "55de0614",
   "metadata": {},
   "source": [
    "**Задача: вывести всех кроме Андрея**\n",
    "\n",
    "1 вариант"
   ]
  },
  {
   "cell_type": "code",
   "execution_count": 18,
   "id": "7f035783",
   "metadata": {},
   "outputs": [
    {
     "data": {
      "text/plain": [
       "array([False,  True,  True,  True, False])"
      ]
     },
     "execution_count": 18,
     "metadata": {},
     "output_type": "execute_result"
    }
   ],
   "source": [
    "mask2 = users != 'Андрей'\n",
    "mask2"
   ]
  },
  {
   "cell_type": "code",
   "execution_count": 17,
   "id": "0fb82a41",
   "metadata": {},
   "outputs": [
    {
     "data": {
      "text/plain": [
       "array([[1, 2],\n",
       "       [2, 1],\n",
       "       [1, 1]])"
      ]
     },
     "execution_count": 17,
     "metadata": {},
     "output_type": "execute_result"
    }
   ],
   "source": [
    "visits[mask, 5:]"
   ]
  },
  {
   "cell_type": "markdown",
   "id": "d5ae3883",
   "metadata": {},
   "source": [
    "2 вариант"
   ]
  },
  {
   "cell_type": "code",
   "execution_count": 21,
   "id": "0a39b0e8",
   "metadata": {},
   "outputs": [
    {
     "data": {
      "text/plain": [
       "array([ True, False, False, False,  True])"
      ]
     },
     "execution_count": 21,
     "metadata": {},
     "output_type": "execute_result"
    }
   ],
   "source": [
    "mask"
   ]
  },
  {
   "cell_type": "code",
   "execution_count": 23,
   "id": "39fc912a",
   "metadata": {},
   "outputs": [
    {
     "data": {
      "text/plain": [
       "array([[1, 2],\n",
       "       [2, 1],\n",
       "       [1, 1]])"
      ]
     },
     "execution_count": 23,
     "metadata": {},
     "output_type": "execute_result"
    }
   ],
   "source": [
    "visits[~mask, 5:]"
   ]
  },
  {
   "cell_type": "markdown",
   "id": "9a9c7a99",
   "metadata": {},
   "source": [
    "**Задача: вывести графики Ивана и Александра**"
   ]
  },
  {
   "cell_type": "code",
   "execution_count": 24,
   "id": "d93c6cb2",
   "metadata": {},
   "outputs": [
    {
     "data": {
      "text/plain": [
       "array([False,  True, False, False, False])"
      ]
     },
     "execution_count": 24,
     "metadata": {},
     "output_type": "execute_result"
    }
   ],
   "source": [
    "mask1 = users == 'Иван'\n",
    "mask1"
   ]
  },
  {
   "cell_type": "code",
   "execution_count": 25,
   "id": "05af9d49",
   "metadata": {},
   "outputs": [
    {
     "data": {
      "text/plain": [
       "array([False, False, False,  True, False])"
      ]
     },
     "execution_count": 25,
     "metadata": {},
     "output_type": "execute_result"
    }
   ],
   "source": [
    "mask2 = users == 'Александр'\n",
    "mask2"
   ]
  },
  {
   "cell_type": "code",
   "execution_count": 28,
   "id": "a3169b3b",
   "metadata": {},
   "outputs": [
    {
     "data": {
      "text/plain": [
       "array([False,  True, False,  True, False])"
      ]
     },
     "execution_count": 28,
     "metadata": {},
     "output_type": "execute_result"
    }
   ],
   "source": [
    "mask = mask1 | mask2\n",
    "mask"
   ]
  },
  {
   "cell_type": "code",
   "execution_count": 29,
   "id": "8eb3c008",
   "metadata": {},
   "outputs": [
    {
     "data": {
      "text/plain": [
       "array([[0, 0, 1, 0, 3, 1, 2],\n",
       "       [1, 2, 1, 0, 1, 1, 1]])"
      ]
     },
     "execution_count": 29,
     "metadata": {},
     "output_type": "execute_result"
    }
   ],
   "source": [
    "visits[mask]"
   ]
  },
  {
   "cell_type": "markdown",
   "id": "5c274d9c",
   "metadata": {},
   "source": [
    "### прихотливая индексация"
   ]
  },
  {
   "cell_type": "code",
   "execution_count": 7,
   "id": "e07fbe39",
   "metadata": {},
   "outputs": [
    {
     "data": {
      "text/plain": [
       "array([[ 1,  2,  3,  4],\n",
       "       [ 5,  6,  7,  8],\n",
       "       [ 9, 10, 11, 12],\n",
       "       [13, 14, 15, 16],\n",
       "       [17, 18, 19, 20]])"
      ]
     },
     "execution_count": 7,
     "metadata": {},
     "output_type": "execute_result"
    }
   ],
   "source": [
    "m2d "
   ]
  },
  {
   "cell_type": "code",
   "execution_count": 32,
   "id": "ecdcdbf9",
   "metadata": {},
   "outputs": [
    {
     "data": {
      "text/plain": [
       "array([[ 1,  2,  3,  4],\n",
       "       [ 9, 10, 11, 12],\n",
       "       [17, 18, 19, 20]])"
      ]
     },
     "execution_count": 32,
     "metadata": {},
     "output_type": "execute_result"
    }
   ],
   "source": [
    "m2d[[0,2,4]]"
   ]
  },
  {
   "cell_type": "code",
   "execution_count": 6,
   "id": "28d8becf",
   "metadata": {},
   "outputs": [
    {
     "data": {
      "text/plain": [
       "array([ 2, 11, 20])"
      ]
     },
     "execution_count": 6,
     "metadata": {},
     "output_type": "execute_result"
    }
   ],
   "source": [
    "m2d[[0,2,4],[1,2,3]] #создание одномерного массива с элементами, находящимися по указанным индексам"
   ]
  },
  {
   "cell_type": "code",
   "execution_count": 36,
   "id": "df677c11",
   "metadata": {},
   "outputs": [
    {
     "data": {
      "text/plain": [
       "array([[ 2,  3,  4],\n",
       "       [10, 11, 12],\n",
       "       [18, 19, 20]])"
      ]
     },
     "execution_count": 36,
     "metadata": {},
     "output_type": "execute_result"
    }
   ],
   "source": [
    "m2d[[0,2,4]][:,[1,2,3]] #вытягивание определенных строк и столбцов"
   ]
  },
  {
   "cell_type": "markdown",
   "id": "2e1765bd",
   "metadata": {},
   "source": [
    "**Задача: разложить одномер. массив в матрицу 10*5**"
   ]
  },
  {
   "cell_type": "code",
   "execution_count": 18,
   "id": "c44962b7",
   "metadata": {},
   "outputs": [
    {
     "data": {
      "text/plain": [
       "array([ 0,  1,  2,  3,  4,  5,  6,  7,  8,  9, 10, 11, 12, 13, 14, 15, 16,\n",
       "       17, 18, 19, 20, 21, 22, 23, 24, 25, 26, 27, 28, 29, 30, 31, 32, 33,\n",
       "       34, 35, 36, 37, 38, 39, 40, 41, 42, 43, 44, 45, 46, 47, 48, 49])"
      ]
     },
     "execution_count": 18,
     "metadata": {},
     "output_type": "execute_result"
    }
   ],
   "source": [
    "m1 = np.arange(50)\n",
    "m1"
   ]
  },
  {
   "cell_type": "code",
   "execution_count": 19,
   "id": "30c223cb",
   "metadata": {},
   "outputs": [
    {
     "data": {
      "text/plain": [
       "array([[ 0,  1,  2,  3,  4],\n",
       "       [ 5,  6,  7,  8,  9],\n",
       "       [10, 11, 12, 13, 14],\n",
       "       [15, 16, 17, 18, 19],\n",
       "       [20, 21, 22, 23, 24],\n",
       "       [25, 26, 27, 28, 29],\n",
       "       [30, 31, 32, 33, 34],\n",
       "       [35, 36, 37, 38, 39],\n",
       "       [40, 41, 42, 43, 44],\n",
       "       [45, 46, 47, 48, 49]])"
      ]
     },
     "execution_count": 19,
     "metadata": {},
     "output_type": "execute_result"
    }
   ],
   "source": [
    "m1.reshape((10,5))"
   ]
  },
  {
   "cell_type": "markdown",
   "id": "8c4f079c",
   "metadata": {},
   "source": [
    "**Задача: разложить одномер. массив в трехмерный массив**"
   ]
  },
  {
   "cell_type": "code",
   "execution_count": 20,
   "id": "37a72c56",
   "metadata": {},
   "outputs": [
    {
     "data": {
      "text/plain": [
       "array([[[ 0,  1,  2,  3,  4],\n",
       "        [ 5,  6,  7,  8,  9]],\n",
       "\n",
       "       [[10, 11, 12, 13, 14],\n",
       "        [15, 16, 17, 18, 19]],\n",
       "\n",
       "       [[20, 21, 22, 23, 24],\n",
       "        [25, 26, 27, 28, 29]],\n",
       "\n",
       "       [[30, 31, 32, 33, 34],\n",
       "        [35, 36, 37, 38, 39]],\n",
       "\n",
       "       [[40, 41, 42, 43, 44],\n",
       "        [45, 46, 47, 48, 49]]])"
      ]
     },
     "execution_count": 20,
     "metadata": {},
     "output_type": "execute_result"
    }
   ],
   "source": [
    "m1.reshape((5,2,5))"
   ]
  },
  {
   "cell_type": "markdown",
   "id": "ca353a85",
   "metadata": {},
   "source": [
    "## 2.9 Еще о reshape, транспонирование, унарные и бинарные функции"
   ]
  },
  {
   "cell_type": "code",
   "execution_count": 21,
   "id": "a371eb98",
   "metadata": {},
   "outputs": [],
   "source": [
    "# reshape не создает новый массив, а меняет существующий по причине большого потребления памяти"
   ]
  },
  {
   "cell_type": "markdown",
   "id": "9781ce8f",
   "metadata": {},
   "source": [
    "### Транспонирование"
   ]
  },
  {
   "cell_type": "code",
   "execution_count": 22,
   "id": "03637ef9",
   "metadata": {},
   "outputs": [
    {
     "data": {
      "text/plain": [
       "array([[ 0,  1,  2,  3,  4,  5,  6],\n",
       "       [ 7,  8,  9, 10, 11, 12, 13],\n",
       "       [14, 15, 16, 17, 18, 19, 20]])"
      ]
     },
     "execution_count": 22,
     "metadata": {},
     "output_type": "execute_result"
    }
   ],
   "source": [
    "m1 = np.arange(21).reshape((3,7))\n",
    "m1"
   ]
  },
  {
   "cell_type": "code",
   "execution_count": 23,
   "id": "c0c0d9f6",
   "metadata": {},
   "outputs": [
    {
     "data": {
      "text/plain": [
       "array([[ 0,  7, 14],\n",
       "       [ 1,  8, 15],\n",
       "       [ 2,  9, 16],\n",
       "       [ 3, 10, 17],\n",
       "       [ 4, 11, 18],\n",
       "       [ 5, 12, 19],\n",
       "       [ 6, 13, 20]])"
      ]
     },
     "execution_count": 23,
     "metadata": {},
     "output_type": "execute_result"
    }
   ],
   "source": [
    "m1.T"
   ]
  },
  {
   "cell_type": "code",
   "execution_count": 25,
   "id": "4d09fe7c",
   "metadata": {},
   "outputs": [],
   "source": [
    "m2 = m1.transpose()"
   ]
  },
  {
   "cell_type": "code",
   "execution_count": 26,
   "id": "177527e1",
   "metadata": {},
   "outputs": [],
   "source": [
    "m2[0] = 0"
   ]
  },
  {
   "cell_type": "code",
   "execution_count": 27,
   "id": "ecffd08c",
   "metadata": {},
   "outputs": [
    {
     "data": {
      "text/plain": [
       "array([[ 0,  0,  0],\n",
       "       [ 1,  8, 15],\n",
       "       [ 2,  9, 16],\n",
       "       [ 3, 10, 17],\n",
       "       [ 4, 11, 18],\n",
       "       [ 5, 12, 19],\n",
       "       [ 6, 13, 20]])"
      ]
     },
     "execution_count": 27,
     "metadata": {},
     "output_type": "execute_result"
    }
   ],
   "source": [
    "m2"
   ]
  },
  {
   "cell_type": "code",
   "execution_count": 28,
   "id": "3e643ed5",
   "metadata": {},
   "outputs": [
    {
     "data": {
      "text/plain": [
       "array([[ 0,  1,  2,  3,  4,  5,  6],\n",
       "       [ 0,  8,  9, 10, 11, 12, 13],\n",
       "       [ 0, 15, 16, 17, 18, 19, 20]])"
      ]
     },
     "execution_count": 28,
     "metadata": {},
     "output_type": "execute_result"
    }
   ],
   "source": [
    "m1\n",
    "# транспонируется не новый массив, изменяется старый"
   ]
  },
  {
   "cell_type": "markdown",
   "id": "8c667f13",
   "metadata": {},
   "source": [
    "### Унарные функции\n",
    "#### принимают один массив и работают поэлементно"
   ]
  },
  {
   "cell_type": "code",
   "execution_count": 44,
   "id": "081adad0",
   "metadata": {},
   "outputs": [],
   "source": [
    "m1 = np.array([-12.1,4.6,6.5,8.9, np.nan])"
   ]
  },
  {
   "cell_type": "code",
   "execution_count": 45,
   "id": "7ae8dafd",
   "metadata": {},
   "outputs": [
    {
     "data": {
      "text/plain": [
       "array([-11.1,   5.6,   7.5,   9.9,   nan])"
      ]
     },
     "execution_count": 45,
     "metadata": {},
     "output_type": "execute_result"
    }
   ],
   "source": [
    "m1+1"
   ]
  },
  {
   "cell_type": "code",
   "execution_count": 46,
   "id": "a6824e31",
   "metadata": {},
   "outputs": [
    {
     "data": {
      "text/plain": [
       "array([146.41,  21.16,  42.25,  79.21,    nan])"
      ]
     },
     "execution_count": 46,
     "metadata": {},
     "output_type": "execute_result"
    }
   ],
   "source": [
    "m2 = m1**2\n",
    "m2"
   ]
  },
  {
   "cell_type": "code",
   "execution_count": 47,
   "id": "364cb135",
   "metadata": {},
   "outputs": [
    {
     "data": {
      "text/plain": [
       "array([12.1,  4.6,  6.5,  8.9,  nan])"
      ]
     },
     "execution_count": 47,
     "metadata": {},
     "output_type": "execute_result"
    }
   ],
   "source": [
    "# не сохраняются изменения в исходном массиве\n",
    "np.sqrt(m2)"
   ]
  },
  {
   "cell_type": "code",
   "execution_count": 53,
   "id": "5fb671b5",
   "metadata": {},
   "outputs": [
    {
     "data": {
      "text/plain": [
       "array([12.1,  4.6,  6.5,  8.9,  nan])"
      ]
     },
     "execution_count": 53,
     "metadata": {},
     "output_type": "execute_result"
    }
   ],
   "source": [
    "np.abs(m1, out = m1)\n",
    "# изменение в исходном массиве"
   ]
  },
  {
   "cell_type": "code",
   "execution_count": 49,
   "id": "9a257d48",
   "metadata": {},
   "outputs": [
    {
     "data": {
      "text/plain": [
       "array([-12.,   5.,   6.,   9.,  nan])"
      ]
     },
     "execution_count": 49,
     "metadata": {},
     "output_type": "execute_result"
    }
   ],
   "source": [
    "np.round(m1)"
   ]
  },
  {
   "cell_type": "code",
   "execution_count": 50,
   "id": "33e51531",
   "metadata": {},
   "outputs": [
    {
     "data": {
      "text/plain": [
       "array([-12.,   5.,   7.,   9.,  nan])"
      ]
     },
     "execution_count": 50,
     "metadata": {},
     "output_type": "execute_result"
    }
   ],
   "source": [
    "np.ceil(m1)"
   ]
  },
  {
   "cell_type": "code",
   "execution_count": 51,
   "id": "71bf9c56",
   "metadata": {},
   "outputs": [
    {
     "data": {
      "text/plain": [
       "array([-13.,   4.,   6.,   8.,  nan])"
      ]
     },
     "execution_count": 51,
     "metadata": {},
     "output_type": "execute_result"
    }
   ],
   "source": [
    "np.floor(m1)"
   ]
  },
  {
   "cell_type": "code",
   "execution_count": 52,
   "id": "6bec415a",
   "metadata": {},
   "outputs": [
    {
     "data": {
      "text/plain": [
       "array([False, False, False, False,  True])"
      ]
     },
     "execution_count": 52,
     "metadata": {},
     "output_type": "execute_result"
    }
   ],
   "source": [
    "np.isnan(m1)"
   ]
  },
  {
   "cell_type": "markdown",
   "id": "512bf64f",
   "metadata": {},
   "source": [
    "### Бинарные функции\n",
    "#### принимают два массива"
   ]
  },
  {
   "cell_type": "code",
   "execution_count": 75,
   "id": "68aeb507",
   "metadata": {},
   "outputs": [],
   "source": [
    "m1 = np.array([1,2,3,4])"
   ]
  },
  {
   "cell_type": "code",
   "execution_count": 76,
   "id": "ab7cc1bd",
   "metadata": {},
   "outputs": [],
   "source": [
    "m2 = np.array([0,3,1,6])"
   ]
  },
  {
   "cell_type": "code",
   "execution_count": 77,
   "id": "34a30c02",
   "metadata": {},
   "outputs": [
    {
     "data": {
      "text/plain": [
       "array([1, 3, 3, 6])"
      ]
     },
     "execution_count": 77,
     "metadata": {},
     "output_type": "execute_result"
    }
   ],
   "source": [
    "# определить, какой из двух элементов больше\n",
    "np.maximum(m1,m2)"
   ]
  },
  {
   "cell_type": "code",
   "execution_count": 57,
   "id": "7cda5575",
   "metadata": {},
   "outputs": [
    {
     "data": {
      "text/plain": [
       "array([0, 2, 1, 4])"
      ]
     },
     "execution_count": 57,
     "metadata": {},
     "output_type": "execute_result"
    }
   ],
   "source": [
    "np.minimum(m1,m2)"
   ]
  },
  {
   "cell_type": "code",
   "execution_count": 61,
   "id": "62843225",
   "metadata": {},
   "outputs": [
    {
     "ename": "ValueError",
     "evalue": "operands could not be broadcast together with shapes (5,) (4,) ",
     "output_type": "error",
     "traceback": [
      "\u001b[1;31m---------------------------------------------------------------------------\u001b[0m",
      "\u001b[1;31mValueError\u001b[0m                                Traceback (most recent call last)",
      "\u001b[1;32m~\\AppData\\Local\\Temp/ipykernel_17100/2031747156.py\u001b[0m in \u001b[0;36m<module>\u001b[1;34m\u001b[0m\n\u001b[0;32m      1\u001b[0m \u001b[1;31m# сложить элементы между собой\u001b[0m\u001b[1;33m\u001b[0m\u001b[1;33m\u001b[0m\u001b[0m\n\u001b[1;32m----> 2\u001b[1;33m \u001b[0mnp\u001b[0m\u001b[1;33m.\u001b[0m\u001b[0madd\u001b[0m\u001b[1;33m(\u001b[0m\u001b[0mm1\u001b[0m\u001b[1;33m,\u001b[0m\u001b[0mm2\u001b[0m\u001b[1;33m)\u001b[0m\u001b[1;33m\u001b[0m\u001b[1;33m\u001b[0m\u001b[0m\n\u001b[0m",
      "\u001b[1;31mValueError\u001b[0m: operands could not be broadcast together with shapes (5,) (4,) "
     ]
    }
   ],
   "source": [
    "# сложить элементы между собой\n",
    "np.add(m1,m2)"
   ]
  },
  {
   "cell_type": "code",
   "execution_count": 64,
   "id": "1f087e54",
   "metadata": {},
   "outputs": [
    {
     "data": {
      "text/plain": [
       "array([ 1, -1,  2, -2])"
      ]
     },
     "execution_count": 64,
     "metadata": {},
     "output_type": "execute_result"
    }
   ],
   "source": [
    "# вычесть один ассив из другого\n",
    "np.subtract(m1,m2)"
   ]
  },
  {
   "cell_type": "code",
   "execution_count": 66,
   "id": "c447aa1f",
   "metadata": {},
   "outputs": [
    {
     "data": {
      "text/plain": [
       "array([ 0,  6,  3, 24])"
      ]
     },
     "execution_count": 66,
     "metadata": {},
     "output_type": "execute_result"
    }
   ],
   "source": [
    "np.multiply(m1,m2)"
   ]
  },
  {
   "cell_type": "code",
   "execution_count": 67,
   "id": "83132d42",
   "metadata": {},
   "outputs": [
    {
     "name": "stderr",
     "output_type": "stream",
     "text": [
      "C:\\Users\\1645295\\AppData\\Local\\Temp/ipykernel_17100/3408699618.py:1: RuntimeWarning: divide by zero encountered in true_divide\n",
      "  m1/m2\n"
     ]
    },
    {
     "data": {
      "text/plain": [
       "array([       inf, 0.66666667, 3.        , 0.66666667])"
      ]
     },
     "execution_count": 67,
     "metadata": {},
     "output_type": "execute_result"
    }
   ],
   "source": [
    "m1/m2\n"
   ]
  },
  {
   "cell_type": "code",
   "execution_count": 68,
   "id": "e58991dd",
   "metadata": {},
   "outputs": [
    {
     "name": "stderr",
     "output_type": "stream",
     "text": [
      "C:\\Users\\1645295\\AppData\\Local\\Temp/ipykernel_17100/3903444778.py:1: RuntimeWarning: divide by zero encountered in true_divide\n",
      "  np.isinf(m1/m2)\n"
     ]
    },
    {
     "data": {
      "text/plain": [
       "array([ True, False, False, False])"
      ]
     },
     "execution_count": 68,
     "metadata": {},
     "output_type": "execute_result"
    }
   ],
   "source": [
    "np.isinf(m1/m2)"
   ]
  },
  {
   "cell_type": "code",
   "execution_count": 69,
   "id": "a5889fb2",
   "metadata": {},
   "outputs": [
    {
     "name": "stderr",
     "output_type": "stream",
     "text": [
      "C:\\Users\\1645295\\AppData\\Local\\Temp/ipykernel_17100/1229016130.py:1: RuntimeWarning: divide by zero encountered in true_divide\n",
      "  np.divide(m1,m2)\n"
     ]
    },
    {
     "data": {
      "text/plain": [
       "array([       inf, 0.66666667, 3.        , 0.66666667])"
      ]
     },
     "execution_count": 69,
     "metadata": {},
     "output_type": "execute_result"
    }
   ],
   "source": [
    "np.divide(m1,m2)"
   ]
  },
  {
   "cell_type": "code",
   "execution_count": 70,
   "id": "4c4596ae",
   "metadata": {},
   "outputs": [
    {
     "data": {
      "text/plain": [
       "array([1, 2, 3, 4])"
      ]
     },
     "execution_count": 70,
     "metadata": {},
     "output_type": "execute_result"
    }
   ],
   "source": [
    "m1"
   ]
  },
  {
   "cell_type": "code",
   "execution_count": 72,
   "id": "839cb0b3",
   "metadata": {},
   "outputs": [
    {
     "data": {
      "text/plain": [
       "(4,)"
      ]
     },
     "execution_count": 72,
     "metadata": {},
     "output_type": "execute_result"
    }
   ],
   "source": [
    "m1.shape"
   ]
  },
  {
   "cell_type": "markdown",
   "id": "ab560fee",
   "metadata": {},
   "source": [
    "## 2.11 Логические функции и функция в функции, а еще where и статистика"
   ]
  },
  {
   "cell_type": "code",
   "execution_count": 78,
   "id": "b017ce52",
   "metadata": {},
   "outputs": [
    {
     "data": {
      "text/plain": [
       "array([ True, False,  True, False])"
      ]
     },
     "execution_count": 78,
     "metadata": {},
     "output_type": "execute_result"
    }
   ],
   "source": [
    "# узнать, какие элементы 1 массива больше\n",
    "np.greater(m1,m2)\n",
    "m1 > m2\n"
   ]
  },
  {
   "cell_type": "code",
   "execution_count": 79,
   "id": "14b09220",
   "metadata": {},
   "outputs": [
    {
     "data": {
      "text/plain": [
       "array([1, 3])"
      ]
     },
     "execution_count": 79,
     "metadata": {},
     "output_type": "execute_result"
    }
   ],
   "source": [
    "mask = np.greater(m1,m2)\n",
    "m1[mask]"
   ]
  },
  {
   "cell_type": "code",
   "execution_count": 82,
   "id": "48b3e7b9",
   "metadata": {},
   "outputs": [
    {
     "data": {
      "text/plain": [
       "array([ True, False,  True, False])"
      ]
     },
     "execution_count": 82,
     "metadata": {},
     "output_type": "execute_result"
    }
   ],
   "source": [
    "np.greater_equal(m1,m2)\n",
    "m1 >=m2"
   ]
  },
  {
   "cell_type": "code",
   "execution_count": 83,
   "id": "8fc289f6",
   "metadata": {},
   "outputs": [
    {
     "data": {
      "text/plain": [
       "array([False,  True, False,  True])"
      ]
     },
     "execution_count": 83,
     "metadata": {},
     "output_type": "execute_result"
    }
   ],
   "source": [
    "# узнать, какие элементы 1 массива меньше\n",
    "np.less(m1,m2)\n",
    "m1 < m2\n"
   ]
  },
  {
   "cell_type": "code",
   "execution_count": 84,
   "id": "a415cfad",
   "metadata": {},
   "outputs": [
    {
     "data": {
      "text/plain": [
       "array([False,  True, False,  True])"
      ]
     },
     "execution_count": 84,
     "metadata": {},
     "output_type": "execute_result"
    }
   ],
   "source": [
    "np.less_equal(m1,m2)\n",
    "m1 <= m2"
   ]
  },
  {
   "cell_type": "code",
   "execution_count": 87,
   "id": "a9865241",
   "metadata": {},
   "outputs": [
    {
     "data": {
      "text/plain": [
       "array([False, False, False, False])"
      ]
     },
     "execution_count": 87,
     "metadata": {},
     "output_type": "execute_result"
    }
   ],
   "source": [
    "# узнать, какие элементы равны между собой\n",
    "np.equal(m1,m2)\n",
    "m1 == m2"
   ]
  },
  {
   "cell_type": "markdown",
   "id": "6c73d105",
   "metadata": {},
   "source": [
    "### where"
   ]
  },
  {
   "cell_type": "code",
   "execution_count": 88,
   "id": "abb85c19",
   "metadata": {},
   "outputs": [],
   "source": [
    "# Задача: если элемент > 0 - +100\n",
    "# если элемент < 0 - -100\n"
   ]
  },
  {
   "cell_type": "code",
   "execution_count": 98,
   "id": "8de7647d",
   "metadata": {},
   "outputs": [],
   "source": [
    "m1 = np.array([2,-3,4,-6,7,-8])"
   ]
  },
  {
   "cell_type": "code",
   "execution_count": 93,
   "id": "772b6ca2",
   "metadata": {},
   "outputs": [],
   "source": [
    "mask_greater = m1 > 0"
   ]
  },
  {
   "cell_type": "code",
   "execution_count": 92,
   "id": "768b452f",
   "metadata": {},
   "outputs": [],
   "source": [
    "mask_less = m1 < 0"
   ]
  },
  {
   "cell_type": "code",
   "execution_count": 94,
   "id": "8b5f68f5",
   "metadata": {},
   "outputs": [
    {
     "data": {
      "text/plain": [
       "array([ 100, -100,  100, -100,  100, -100])"
      ]
     },
     "execution_count": 94,
     "metadata": {},
     "output_type": "execute_result"
    }
   ],
   "source": [
    "m1[mask_greater] = 100\n",
    "m1[mask_less] = -100\n",
    "m1"
   ]
  },
  {
   "cell_type": "code",
   "execution_count": 95,
   "id": "27c46060",
   "metadata": {},
   "outputs": [
    {
     "data": {
      "text/plain": [
       "array([ 100, -100,  100, -100,  100, -100])"
      ]
     },
     "execution_count": 95,
     "metadata": {},
     "output_type": "execute_result"
    }
   ],
   "source": [
    "np.where(m1 > 0, 100, -100)\n",
    "# условие, если выполняется, если не выполняется"
   ]
  },
  {
   "cell_type": "code",
   "execution_count": 99,
   "id": "6dfe5070",
   "metadata": {},
   "outputs": [
    {
     "data": {
      "text/plain": [
       "array([2, 0, 4, 0, 7, 0])"
      ]
     },
     "execution_count": 99,
     "metadata": {},
     "output_type": "execute_result"
    }
   ],
   "source": [
    "# Задача: занулить отрицательные значения\n",
    "np.where(m1 < 0, 0, m1)"
   ]
  },
  {
   "cell_type": "markdown",
   "id": "809698f7",
   "metadata": {},
   "source": [
    "### статистика"
   ]
  },
  {
   "cell_type": "code",
   "execution_count": 102,
   "id": "806811cc",
   "metadata": {},
   "outputs": [
    {
     "data": {
      "text/plain": [
       "array([0, 1, 2, 3, 4, 5])"
      ]
     },
     "execution_count": 102,
     "metadata": {},
     "output_type": "execute_result"
    }
   ],
   "source": [
    "m1 = np.arange(6)\n",
    "m1"
   ]
  },
  {
   "cell_type": "code",
   "execution_count": 101,
   "id": "7ff240c4",
   "metadata": {},
   "outputs": [
    {
     "data": {
      "text/plain": [
       "15"
      ]
     },
     "execution_count": 101,
     "metadata": {},
     "output_type": "execute_result"
    }
   ],
   "source": [
    "np.sum(m1)"
   ]
  },
  {
   "cell_type": "code",
   "execution_count": 104,
   "id": "0c5690e0",
   "metadata": {},
   "outputs": [
    {
     "data": {
      "text/plain": [
       "15"
      ]
     },
     "execution_count": 104,
     "metadata": {},
     "output_type": "execute_result"
    }
   ],
   "source": [
    "m1.sum()"
   ]
  },
  {
   "cell_type": "code",
   "execution_count": 103,
   "id": "56c6d6e9",
   "metadata": {},
   "outputs": [
    {
     "data": {
      "text/plain": [
       "2.5"
      ]
     },
     "execution_count": 103,
     "metadata": {},
     "output_type": "execute_result"
    }
   ],
   "source": [
    "np.mean(m1)"
   ]
  },
  {
   "cell_type": "code",
   "execution_count": 105,
   "id": "04d8ff78",
   "metadata": {},
   "outputs": [
    {
     "data": {
      "text/plain": [
       "2.5"
      ]
     },
     "execution_count": 105,
     "metadata": {},
     "output_type": "execute_result"
    }
   ],
   "source": [
    "m1.mean()"
   ]
  },
  {
   "cell_type": "code",
   "execution_count": 107,
   "id": "c7d4cdfc",
   "metadata": {},
   "outputs": [
    {
     "data": {
      "text/plain": [
       "array([[ 0,  1,  2,  3,  4,  5],\n",
       "       [ 6,  7,  8,  9, 10, 11]])"
      ]
     },
     "execution_count": 107,
     "metadata": {},
     "output_type": "execute_result"
    }
   ],
   "source": [
    "m2d = np.arange(12).reshape((2,6))\n",
    "m2d"
   ]
  },
  {
   "cell_type": "code",
   "execution_count": 111,
   "id": "2427fa8d",
   "metadata": {},
   "outputs": [
    {
     "data": {
      "text/plain": [
       "array([ 6,  8, 10, 12, 14, 16])"
      ]
     },
     "execution_count": 111,
     "metadata": {},
     "output_type": "execute_result"
    }
   ],
   "source": [
    "# axis - по какой оси считать (1 - по строке, 0 - по столбцам)\n",
    "m2d.sum(axis = 0)"
   ]
  },
  {
   "cell_type": "code",
   "execution_count": 116,
   "id": "39276f07",
   "metadata": {},
   "outputs": [
    {
     "data": {
      "text/plain": [
       "array([0, 1, 2, 3, 4, 5])"
      ]
     },
     "execution_count": 116,
     "metadata": {},
     "output_type": "execute_result"
    }
   ],
   "source": [
    "m2d.min(axis = 0)\n"
   ]
  },
  {
   "cell_type": "code",
   "execution_count": 113,
   "id": "9aa4a47b",
   "metadata": {},
   "outputs": [
    {
     "data": {
      "text/plain": [
       "11"
      ]
     },
     "execution_count": 113,
     "metadata": {},
     "output_type": "execute_result"
    }
   ],
   "source": [
    "m2d.max()"
   ]
  },
  {
   "cell_type": "code",
   "execution_count": 117,
   "id": "93d55d1b",
   "metadata": {},
   "outputs": [
    {
     "data": {
      "text/plain": [
       "3.452052529534663"
      ]
     },
     "execution_count": 117,
     "metadata": {},
     "output_type": "execute_result"
    }
   ],
   "source": [
    "np.std(m2d)"
   ]
  },
  {
   "cell_type": "code",
   "execution_count": 118,
   "id": "1001ad67",
   "metadata": {},
   "outputs": [
    {
     "data": {
      "text/plain": [
       "11.916666666666666"
      ]
     },
     "execution_count": 118,
     "metadata": {},
     "output_type": "execute_result"
    }
   ],
   "source": [
    "np.var(m2d)"
   ]
  },
  {
   "cell_type": "code",
   "execution_count": 119,
   "id": "a4601846",
   "metadata": {},
   "outputs": [
    {
     "data": {
      "text/plain": [
       "0"
      ]
     },
     "execution_count": 119,
     "metadata": {},
     "output_type": "execute_result"
    }
   ],
   "source": [
    "# индекс минимального элемента\n",
    "np.argmin(m2d)"
   ]
  },
  {
   "cell_type": "code",
   "execution_count": 120,
   "id": "e3332de8",
   "metadata": {},
   "outputs": [
    {
     "data": {
      "text/plain": [
       "11"
      ]
     },
     "execution_count": 120,
     "metadata": {},
     "output_type": "execute_result"
    }
   ],
   "source": [
    "np.argmax(m2d)"
   ]
  },
  {
   "cell_type": "markdown",
   "id": "57a664bc",
   "metadata": {},
   "source": [
    "## 2.13 Функции any, all, sort, unique, in1d"
   ]
  },
  {
   "cell_type": "markdown",
   "id": "c31abec2",
   "metadata": {},
   "source": [
    "###  any, all"
   ]
  },
  {
   "cell_type": "code",
   "execution_count": 4,
   "id": "a356b2d7",
   "metadata": {},
   "outputs": [],
   "source": [
    "bools_arr1 = np.array([True, True, False, True])\n",
    "bools_arr2 = np.array([False, False, False, False])\n",
    "bools_arr3 = np.array([True, True, True, True])"
   ]
  },
  {
   "cell_type": "code",
   "execution_count": 5,
   "id": "f9b6c3d4",
   "metadata": {},
   "outputs": [
    {
     "data": {
      "text/plain": [
       "True"
      ]
     },
     "execution_count": 5,
     "metadata": {},
     "output_type": "execute_result"
    }
   ],
   "source": [
    "bools_arr1.any() \n",
    "# хотя бы одно True"
   ]
  },
  {
   "cell_type": "code",
   "execution_count": 7,
   "id": "cb8953c7",
   "metadata": {},
   "outputs": [
    {
     "data": {
      "text/plain": [
       "True"
      ]
     },
     "execution_count": 7,
     "metadata": {},
     "output_type": "execute_result"
    }
   ],
   "source": [
    "bools_arr3.all()\n",
    "# все были True"
   ]
  },
  {
   "cell_type": "markdown",
   "id": "6f92f170",
   "metadata": {},
   "source": [
    "### sort"
   ]
  },
  {
   "cell_type": "code",
   "execution_count": 8,
   "id": "54f1d3cc",
   "metadata": {},
   "outputs": [],
   "source": [
    "m1 = np.array ([1,8,2,-1,0,6])"
   ]
  },
  {
   "cell_type": "code",
   "execution_count": 10,
   "id": "1cc201c7",
   "metadata": {},
   "outputs": [
    {
     "data": {
      "text/plain": [
       "array([-1,  0,  1,  2,  6,  8])"
      ]
     },
     "execution_count": 10,
     "metadata": {},
     "output_type": "execute_result"
    }
   ],
   "source": [
    "m1.sort()\n",
    "# сортирует уже существующий массив\n",
    "m1"
   ]
  },
  {
   "cell_type": "code",
   "execution_count": 13,
   "id": "f792e23b",
   "metadata": {},
   "outputs": [
    {
     "data": {
      "text/plain": [
       "array([[ 1,  5,  0, -2],\n",
       "       [ 6,  2,  0, -8],\n",
       "       [-2,  4,  8, 12]])"
      ]
     },
     "execution_count": 13,
     "metadata": {},
     "output_type": "execute_result"
    }
   ],
   "source": [
    "m2d = np.array([[1,5,0,-2],[6,2,0,-8],[-2,4,8,12]])\n",
    "m2d"
   ]
  },
  {
   "cell_type": "code",
   "execution_count": 14,
   "id": "f82e9583",
   "metadata": {},
   "outputs": [
    {
     "data": {
      "text/plain": [
       "array([[-2,  2,  0, -8],\n",
       "       [ 1,  4,  0, -2],\n",
       "       [ 6,  5,  8, 12]])"
      ]
     },
     "execution_count": 14,
     "metadata": {},
     "output_type": "execute_result"
    }
   ],
   "source": [
    "m2d.sort(axis = 0)\n",
    "# по умолчанию по строкам (axis = 1)\n",
    "m2d"
   ]
  },
  {
   "cell_type": "markdown",
   "id": "bbfce7a8",
   "metadata": {},
   "source": [
    "### unique"
   ]
  },
  {
   "cell_type": "code",
   "execution_count": 4,
   "id": "b9b6d764",
   "metadata": {},
   "outputs": [],
   "source": [
    "names = np.array(['Ivan', 'Andrey', 'Roman', 'Andrey', 'Sergey', 'Ivan'])\n",
    "# проверить на дубликаты"
   ]
  },
  {
   "cell_type": "code",
   "execution_count": 17,
   "id": "59722311",
   "metadata": {},
   "outputs": [
    {
     "data": {
      "text/plain": [
       "4"
      ]
     },
     "execution_count": 17,
     "metadata": {},
     "output_type": "execute_result"
    }
   ],
   "source": [
    "unames = np.unique(names)\n",
    "len(unames)"
   ]
  },
  {
   "cell_type": "markdown",
   "id": "1d07f4b2",
   "metadata": {},
   "source": [
    "### in1d"
   ]
  },
  {
   "cell_type": "code",
   "execution_count": 5,
   "id": "bdfe3377",
   "metadata": {},
   "outputs": [
    {
     "data": {
      "text/plain": [
       "array([False,  True,  True,  True, False, False])"
      ]
     },
     "execution_count": 5,
     "metadata": {},
     "output_type": "execute_result"
    }
   ],
   "source": [
    "np.in1d(names, ['Roman','Andrey'])"
   ]
  },
  {
   "cell_type": "markdown",
   "id": "9dbcedf2",
   "metadata": {},
   "source": [
    "### random "
   ]
  },
  {
   "cell_type": "code",
   "execution_count": 7,
   "id": "af94343c",
   "metadata": {},
   "outputs": [
    {
     "data": {
      "text/plain": [
       "array([[4, 4, 6, 5],\n",
       "       [2, 9, 8, 8],\n",
       "       [8, 1, 6, 5],\n",
       "       [9, 2, 1, 9],\n",
       "       [2, 4, 7, 9]])"
      ]
     },
     "execution_count": 7,
     "metadata": {},
     "output_type": "execute_result"
    }
   ],
   "source": [
    "np.random.randint(1,10,size=(5,4))"
   ]
  },
  {
   "cell_type": "markdown",
   "id": "833cca7c",
   "metadata": {},
   "source": [
    "## 2.14 Функции permutation и shuffle. Сохранение массива в файл"
   ]
  },
  {
   "cell_type": "markdown",
   "id": "1ff6f8b2",
   "metadata": {},
   "source": [
    "### permutation"
   ]
  },
  {
   "cell_type": "code",
   "execution_count": 8,
   "id": "47d7632c",
   "metadata": {},
   "outputs": [
    {
     "data": {
      "text/plain": [
       "array([2, 4, 8, 7, 7, 2, 5, 9, 2, 8])"
      ]
     },
     "execution_count": 8,
     "metadata": {},
     "output_type": "execute_result"
    }
   ],
   "source": [
    "np.random.randint(1,10,size=10)"
   ]
  },
  {
   "cell_type": "code",
   "execution_count": 9,
   "id": "0e687f0c",
   "metadata": {},
   "outputs": [
    {
     "data": {
      "text/plain": [
       "array([4, 7, 8, 6, 3, 5, 0, 2, 1, 9])"
      ]
     },
     "execution_count": 9,
     "metadata": {},
     "output_type": "execute_result"
    }
   ],
   "source": [
    "np.random.permutation(10)\n",
    "# создание перемешанного массива"
   ]
  },
  {
   "cell_type": "code",
   "execution_count": 10,
   "id": "53be79d5",
   "metadata": {},
   "outputs": [
    {
     "data": {
      "text/plain": [
       "array([0, 1, 2, 3, 4, 5, 6, 7, 8, 9])"
      ]
     },
     "execution_count": 10,
     "metadata": {},
     "output_type": "execute_result"
    }
   ],
   "source": [
    "m1 = np.arange(10)\n",
    "m1"
   ]
  },
  {
   "cell_type": "markdown",
   "id": "fe305980",
   "metadata": {},
   "source": [
    "### shuffle"
   ]
  },
  {
   "cell_type": "code",
   "execution_count": 21,
   "id": "fe7b44f4",
   "metadata": {},
   "outputs": [
    {
     "data": {
      "text/plain": [
       "array([3, 8, 5, 1, 2, 6, 7, 4, 9, 0])"
      ]
     },
     "execution_count": 21,
     "metadata": {},
     "output_type": "execute_result"
    }
   ],
   "source": [
    "np.random.shuffle(m1)\n",
    "m1\n",
    "# перемешивание в существующем массиве"
   ]
  },
  {
   "cell_type": "code",
   "execution_count": 24,
   "id": "9fb6aefc",
   "metadata": {},
   "outputs": [
    {
     "data": {
      "text/plain": [
       "array([-1.75731741, -0.61087804, -0.21687266,  0.00332464, -0.91989858,\n",
       "       -0.18522136, -0.80978199,  0.76218867,  1.08044716,  1.45362637])"
      ]
     },
     "execution_count": 24,
     "metadata": {},
     "output_type": "execute_result"
    }
   ],
   "source": [
    "np.random.randn(10)\n",
    "# из нормального распределения"
   ]
  },
  {
   "cell_type": "code",
   "execution_count": 25,
   "id": "4a43e3d1",
   "metadata": {},
   "outputs": [
    {
     "data": {
      "text/plain": [
       "array([[-0.78350422,  0.68408908,  0.81658601, -0.14832388,  0.09644471],\n",
       "       [-0.50129104, -1.59027557, -0.27416526, -1.18450872, -1.32574938]])"
      ]
     },
     "execution_count": 25,
     "metadata": {},
     "output_type": "execute_result"
    }
   ],
   "source": [
    "np.random.randn(2,5)\n",
    "# генерируется двумерный массив"
   ]
  },
  {
   "cell_type": "markdown",
   "id": "99e659b1",
   "metadata": {},
   "source": [
    "### cохранение массива в файл"
   ]
  },
  {
   "cell_type": "code",
   "execution_count": 26,
   "id": "61cfefd6",
   "metadata": {},
   "outputs": [
    {
     "data": {
      "text/plain": [
       "array([3, 8, 5, 1, 2, 6, 7, 4, 9, 0])"
      ]
     },
     "execution_count": 26,
     "metadata": {},
     "output_type": "execute_result"
    }
   ],
   "source": [
    "m1"
   ]
  },
  {
   "cell_type": "code",
   "execution_count": 27,
   "id": "a5ad5724",
   "metadata": {},
   "outputs": [],
   "source": [
    "np.save('my_array', m1)\n",
    "# .npy"
   ]
  },
  {
   "cell_type": "code",
   "execution_count": 29,
   "id": "5ca4b585",
   "metadata": {},
   "outputs": [
    {
     "data": {
      "text/plain": [
       "array([3, 8, 5, 1, 2, 6, 7, 4, 9, 0])"
      ]
     },
     "execution_count": 29,
     "metadata": {},
     "output_type": "execute_result"
    }
   ],
   "source": [
    "np.load('my_array.npy')"
   ]
  },
  {
   "cell_type": "code",
   "execution_count": 42,
   "id": "abbcb667",
   "metadata": {},
   "outputs": [
    {
     "data": {
      "text/plain": [
       "array([16, 18, 15, 19, 11, 17, 13, 12, 14, 10])"
      ]
     },
     "execution_count": 42,
     "metadata": {},
     "output_type": "execute_result"
    }
   ],
   "source": [
    "m2 = np.arange(10,20)\n",
    "np.random.shuffle(m2)\n",
    "m2"
   ]
  },
  {
   "cell_type": "code",
   "execution_count": 43,
   "id": "08264cd8",
   "metadata": {},
   "outputs": [],
   "source": [
    "np.savez('arrays', name1=m1, name2=m2)\n",
    "# .npz"
   ]
  },
  {
   "cell_type": "code",
   "execution_count": 46,
   "id": "d0ec9161",
   "metadata": {},
   "outputs": [
    {
     "data": {
      "text/plain": [
       "array([3, 8, 5, 1, 2, 6, 7, 4, 9, 0])"
      ]
     },
     "execution_count": 46,
     "metadata": {},
     "output_type": "execute_result"
    }
   ],
   "source": [
    "m12 = np.load('arrays.npz')\n"
   ]
  },
  {
   "cell_type": "code",
   "execution_count": 47,
   "id": "94916c7c",
   "metadata": {},
   "outputs": [
    {
     "data": {
      "text/plain": [
       "array([3, 8, 5, 1, 2, 6, 7, 4, 9, 0])"
      ]
     },
     "execution_count": 47,
     "metadata": {},
     "output_type": "execute_result"
    }
   ],
   "source": [
    "m12['name1']\n"
   ]
  },
  {
   "cell_type": "code",
   "execution_count": 48,
   "id": "39642d66",
   "metadata": {},
   "outputs": [
    {
     "data": {
      "text/plain": [
       "array([16, 18, 15, 19, 11, 17, 13, 12, 14, 10])"
      ]
     },
     "execution_count": 48,
     "metadata": {},
     "output_type": "execute_result"
    }
   ],
   "source": [
    "m12['name2']"
   ]
  },
  {
   "cell_type": "code",
   "execution_count": 49,
   "id": "f3a4eacf",
   "metadata": {},
   "outputs": [],
   "source": [
    "np.savez_compressed('comp_arrays', key1=m1, key2=m2)"
   ]
  },
  {
   "cell_type": "code",
   "execution_count": 51,
   "id": "78bfedd5",
   "metadata": {},
   "outputs": [],
   "source": [
    "arch = np.load('comp_arrays.npz')"
   ]
  },
  {
   "cell_type": "code",
   "execution_count": 52,
   "id": "5c9cf2a1",
   "metadata": {},
   "outputs": [
    {
     "data": {
      "text/plain": [
       "array([3, 8, 5, 1, 2, 6, 7, 4, 9, 0])"
      ]
     },
     "execution_count": 52,
     "metadata": {},
     "output_type": "execute_result"
    }
   ],
   "source": [
    "arch['key1']"
   ]
  },
  {
   "cell_type": "code",
   "execution_count": 22,
   "id": "099ea0e8",
   "metadata": {},
   "outputs": [
    {
     "ename": "NameError",
     "evalue": "name 'arch' is not defined",
     "output_type": "error",
     "traceback": [
      "\u001b[1;31m---------------------------------------------------------------------------\u001b[0m",
      "\u001b[1;31mNameError\u001b[0m                                 Traceback (most recent call last)",
      "\u001b[1;32m~\\AppData\\Local\\Temp/ipykernel_11032/593101415.py\u001b[0m in \u001b[0;36m<module>\u001b[1;34m\u001b[0m\n\u001b[1;32m----> 1\u001b[1;33m \u001b[0march\u001b[0m\u001b[1;33m[\u001b[0m\u001b[1;34m'key2'\u001b[0m\u001b[1;33m]\u001b[0m\u001b[1;33m\u001b[0m\u001b[1;33m\u001b[0m\u001b[0m\n\u001b[0m",
      "\u001b[1;31mNameError\u001b[0m: name 'arch' is not defined"
     ]
    }
   ],
   "source": [
    "arch['key2']"
   ]
  },
  {
   "cell_type": "code",
   "execution_count": null,
   "id": "68a437a1",
   "metadata": {},
   "outputs": [],
   "source": []
  }
 ],
 "metadata": {
  "kernelspec": {
   "display_name": "Python 3 (ipykernel)",
   "language": "python",
   "name": "python3"
  },
  "language_info": {
   "codemirror_mode": {
    "name": "ipython",
    "version": 3
   },
   "file_extension": ".py",
   "mimetype": "text/x-python",
   "name": "python",
   "nbconvert_exporter": "python",
   "pygments_lexer": "ipython3",
   "version": "3.9.7"
  }
 },
 "nbformat": 4,
 "nbformat_minor": 5
}
